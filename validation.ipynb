{
 "cells": [
  {
   "cell_type": "code",
   "execution_count": 1,
   "metadata": {},
   "outputs": [],
   "source": [
    "from widerface_evaluate.evaluation import get_preds"
   ]
  },
  {
   "cell_type": "code",
   "execution_count": 2,
   "metadata": {},
   "outputs": [
    {
     "name": "stdout",
     "output_type": "stream",
     "text": [
      "Compiling box_overlaps.pyx because it changed.\n",
      "[1/1] Cythonizing box_overlaps.pyx\n",
      "running build_ext\n",
      "building 'bbox' extension\n",
      "creating build\n",
      "creating build/temp.linux-x86_64-3.7\n",
      "gcc -pthread -B /home/chec/anaconda3/compiler_compat -Wl,--sysroot=/ -Wsign-compare -DNDEBUG -g -fwrapv -O3 -Wall -Wstrict-prototypes -fPIC -I/home/chec/anaconda3/lib/python3.7/site-packages/numpy/core/include -I/home/chec/anaconda3/include/python3.7m -c box_overlaps.c -o build/temp.linux-x86_64-3.7/box_overlaps.o\n",
      "gcc -pthread -shared -B /home/chec/anaconda3/compiler_compat -L/home/chec/anaconda3/lib -Wl,-rpath=/home/chec/anaconda3/lib -Wl,--no-as-needed -Wl,--sysroot=/ build/temp.linux-x86_64-3.7/box_overlaps.o -o /vc_data/chec/Pytorch_Retinaface/widerface_evaluate/bbox.cpython-37m-x86_64-linux-gnu.so\n"
     ]
    },
    {
     "name": "stderr",
     "output_type": "stream",
     "text": [
      "In file included from /home/chec/anaconda3/lib/python3.7/site-packages/numpy/core/include/numpy/ndarraytypes.h:1832:0,\n",
      "                 from /home/chec/anaconda3/lib/python3.7/site-packages/numpy/core/include/numpy/ndarrayobject.h:12,\n",
      "                 from /home/chec/anaconda3/lib/python3.7/site-packages/numpy/core/include/numpy/arrayobject.h:4,\n",
      "                 from box_overlaps.c:617:\n",
      "/home/chec/anaconda3/lib/python3.7/site-packages/numpy/core/include/numpy/npy_1_7_deprecated_api.h:17:2: warning: #warning \"Using deprecated NumPy API, disable it with \" \"#define NPY_NO_DEPRECATED_API NPY_1_7_API_VERSION\" [-Wcpp]\n",
      " #warning \"Using deprecated NumPy API, disable it with \" \\\n",
      "  ^~~~~~~\n",
      "/home/chec/anaconda3/lib/python3.7/site-packages/Cython/Compiler/Main.py:369: FutureWarning: Cython directive 'language_level' not set, using 2 for now (Py2). This will change in a later release! File: /vc_data/chec/Pytorch_Retinaface/widerface_evaluate/box_overlaps.pyx\n",
      "  tree = Parsing.p_module(s, pxd, full_module_name)\n"
     ]
    }
   ],
   "source": [
    "%%bash\n",
    "cd widerface_evaluate\n",
    "python setup.py build_ext --inplace"
   ]
  },
  {
   "cell_type": "code",
   "execution_count": 5,
   "metadata": {},
   "outputs": [
    {
     "name": "stderr",
     "output_type": "stream",
     "text": [
      "Reading Predictions : 100%|██████████| 61/61 [00:07<00:00,  7.85it/s]\n"
     ]
    }
   ],
   "source": [
    "preds = get_preds('./widerface_evaluate/widerface_txt/')"
   ]
  },
  {
   "cell_type": "code",
   "execution_count": 6,
   "metadata": {},
   "outputs": [
    {
     "data": {
      "text/plain": [
       "dict"
      ]
     },
     "execution_count": 6,
     "metadata": {},
     "output_type": "execute_result"
    }
   ],
   "source": [
    "type(preds)"
   ]
  },
  {
   "cell_type": "code",
   "execution_count": 7,
   "metadata": {},
   "outputs": [
    {
     "data": {
      "text/plain": [
       "['15--Stock_Market',\n",
       " '46--Jockey',\n",
       " '47--Matador_Bullfighter',\n",
       " '11--Meeting',\n",
       " '26--Soldier_Drilling',\n",
       " '39--Ice_Skating',\n",
       " '29--Students_Schoolkids',\n",
       " '57--Angler',\n",
       " '18--Concerts',\n",
       " '45--Balloonist',\n",
       " '24--Soldier_Firing',\n",
       " '31--Waiter_Waitress',\n",
       " '41--Swimming',\n",
       " '0--Parade',\n",
       " '40--Gymnastics',\n",
       " '2--Demonstration',\n",
       " '43--Row_Boat',\n",
       " '36--Football',\n",
       " '27--Spa',\n",
       " '12--Group',\n",
       " '34--Baseball',\n",
       " '6--Funeral',\n",
       " '51--Dresses',\n",
       " '10--People_Marching',\n",
       " '56--Voter',\n",
       " '42--Car_Racing',\n",
       " '61--Street_Battle',\n",
       " '9--Press_Conference',\n",
       " '14--Traffic',\n",
       " '50--Celebration_Or_Party',\n",
       " '38--Tennis',\n",
       " '48--Parachutist_Paratrooper',\n",
       " '5--Car_Accident',\n",
       " '35--Basketball',\n",
       " '19--Couple',\n",
       " '16--Award_Ceremony',\n",
       " '8--Election_Campain',\n",
       " '55--Sports_Coach_Trainer',\n",
       " '49--Greeting',\n",
       " '22--Picnic',\n",
       " '21--Festival',\n",
       " '20--Family_Group',\n",
       " '54--Rescue',\n",
       " '7--Cheering',\n",
       " '25--Soldier_Patrol',\n",
       " '32--Worker_Laborer',\n",
       " '28--Sports_Fan',\n",
       " '44--Aerobics',\n",
       " '30--Surgeons',\n",
       " '52--Photographers',\n",
       " '53--Raid',\n",
       " '3--Riot',\n",
       " '23--Shoppers',\n",
       " '1--Handshaking',\n",
       " '17--Ceremony',\n",
       " '59--people--driving--car',\n",
       " '13--Interview',\n",
       " '58--Hockey',\n",
       " '4--Dancing',\n",
       " '37--Soccer',\n",
       " '33--Running']"
      ]
     },
     "execution_count": 7,
     "metadata": {},
     "output_type": "execute_result"
    }
   ],
   "source": [
    "list(preds.keys())"
   ]
  },
  {
   "cell_type": "code",
   "execution_count": 8,
   "metadata": {},
   "outputs": [
    {
     "data": {
      "text/plain": [
       "dict"
      ]
     },
     "execution_count": 8,
     "metadata": {},
     "output_type": "execute_result"
    }
   ],
   "source": [
    "type(preds['16--Award_Ceremony'])"
   ]
  },
  {
   "cell_type": "code",
   "execution_count": 9,
   "metadata": {},
   "outputs": [
    {
     "data": {
      "text/plain": [
       "['16_Award_Ceremony_Awards_Ceremony_16_512',\n",
       " '16_Award_Ceremony_Awards_Ceremony_16_239',\n",
       " '16_Award_Ceremony_Awards_Ceremony_16_495',\n",
       " '16_Award_Ceremony_Awards_Ceremony_16_591',\n",
       " '16_Award_Ceremony_Awards_Ceremony_16_56',\n",
       " '16_Award_Ceremony_Awards_Ceremony_16_195',\n",
       " '16_Award_Ceremony_Awards_Ceremony_16_490',\n",
       " '16_Award_Ceremony_Awards_Ceremony_16_4',\n",
       " '16_Award_Ceremony_Awards_Ceremony_16_422',\n",
       " '16_Award_Ceremony_Awards_Ceremony_16_135',\n",
       " '16_Award_Ceremony_Awards_Ceremony_16_546',\n",
       " '16_Award_Ceremony_Awards_Ceremony_16_566',\n",
       " '16_Award_Ceremony_Awards_Ceremony_16_569',\n",
       " '16_Award_Ceremony_Awards_Ceremony_16_25',\n",
       " '16_Award_Ceremony_Awards_Ceremony_16_143',\n",
       " '16_Award_Ceremony_Awards_Ceremony_16_361',\n",
       " '16_Award_Ceremony_Awards_Ceremony_16_64',\n",
       " '16_Award_Ceremony_Awards_Ceremony_16_447',\n",
       " '16_Award_Ceremony_Awards_Ceremony_16_524',\n",
       " '16_Award_Ceremony_Awards_Ceremony_16_752',\n",
       " '16_Award_Ceremony_Awards_Ceremony_16_338',\n",
       " '16_Award_Ceremony_Awards_Ceremony_16_392',\n",
       " '16_Award_Ceremony_Awards_Ceremony_16_84',\n",
       " '16_Award_Ceremony_Awards_Ceremony_16_346',\n",
       " '16_Award_Ceremony_Awards_Ceremony_16_317',\n",
       " '16_Award_Ceremony_Awards_Ceremony_16_73',\n",
       " '16_Award_Ceremony_Awards_Ceremony_16_124',\n",
       " '16_Award_Ceremony_Awards_Ceremony_16_482',\n",
       " '16_Award_Ceremony_Awards_Ceremony_16_309',\n",
       " '16_Award_Ceremony_Awards_Ceremony_16_59',\n",
       " '16_Award_Ceremony_Awards_Ceremony_16_305',\n",
       " '16_Award_Ceremony_Awards_Ceremony_16_231',\n",
       " '16_Award_Ceremony_Awards_Ceremony_16_750',\n",
       " '16_Award_Ceremony_Awards_Ceremony_16_474',\n",
       " '16_Award_Ceremony_Awards_Ceremony_16_116',\n",
       " '16_Award_Ceremony_Awards_Ceremony_16_85',\n",
       " '16_Award_Ceremony_Awards_Ceremony_16_311',\n",
       " '16_Award_Ceremony_Awards_Ceremony_16_94',\n",
       " '16_Award_Ceremony_Awards_Ceremony_16_589',\n",
       " '16_Award_Ceremony_Awards_Ceremony_16_134',\n",
       " '16_Award_Ceremony_Awards_Ceremony_16_637',\n",
       " '16_Award_Ceremony_Awards_Ceremony_16_226',\n",
       " '16_Award_Ceremony_Awards_Ceremony_16_141',\n",
       " '16_Award_Ceremony_Awards_Ceremony_16_270',\n",
       " '16_Award_Ceremony_Awards_Ceremony_16_467']"
      ]
     },
     "execution_count": 9,
     "metadata": {},
     "output_type": "execute_result"
    }
   ],
   "source": [
    "list(preds['16--Award_Ceremony'].keys())"
   ]
  },
  {
   "cell_type": "code",
   "execution_count": 10,
   "metadata": {},
   "outputs": [
    {
     "data": {
      "text/plain": [
       "array([[ 5.0200000e+02,  9.4000000e+01,  3.3000000e+01,  4.4000000e+01,\n",
       "         9.9878890e-01],\n",
       "       [ 4.4000000e+02,  1.2200000e+02,  3.3000000e+01,  4.3000000e+01,\n",
       "         9.9794906e-01],\n",
       "       [ 8.4300000e+02,  1.3300000e+02,  3.8000000e+01,  4.7000000e+01,\n",
       "         9.9721164e-01],\n",
       "       [ 6.5000000e+02,  1.3700000e+02,  3.8000000e+01,  4.7000000e+01,\n",
       "         9.9605995e-01],\n",
       "       [ 5.6300000e+02,  1.0300000e+02,  4.0000000e+01,  5.4000000e+01,\n",
       "         9.9570730e-01],\n",
       "       [ 2.2500000e+02,  1.1800000e+02,  3.9000000e+01,  4.9000000e+01,\n",
       "         9.9287620e-01],\n",
       "       [ 7.4000000e+02,  1.4600000e+02,  4.2000000e+01,  5.5000000e+01,\n",
       "         9.9030393e-01],\n",
       "       [ 9.2900000e+02,  1.5300000e+02,  4.2000000e+01,  5.4000000e+01,\n",
       "         9.8621200e-01],\n",
       "       [ 1.4900000e+02,  9.6000000e+01,  3.9000000e+01,  5.4000000e+01,\n",
       "         9.8590000e-01],\n",
       "       [ 3.3200000e+02,  1.4800000e+02,  4.3000000e+01,  5.2000000e+01,\n",
       "         9.8317873e-01],\n",
       "       [ 6.0000000e+01,  1.0200000e+02,  4.4000000e+01,  5.2000000e+01,\n",
       "         9.6573144e-01],\n",
       "       [ 6.6000000e+02,  3.1300000e+02,  1.8000000e+01,  2.3000000e+01,\n",
       "         5.2074890e-01],\n",
       "       [ 4.2900000e+02,  4.2900000e+02,  1.0000000e+01,  1.3000000e+01,\n",
       "         1.2773107e-01],\n",
       "       [ 6.8100000e+02,  3.0300000e+02,  1.9000000e+01,  2.4000000e+01,\n",
       "         1.2316972e-01],\n",
       "       [ 9.2900000e+02,  3.5600000e+02,  2.7000000e+01,  3.0000000e+01,\n",
       "         1.2246898e-01],\n",
       "       [ 2.5400000e+02,  1.2200000e+02,  2.9000000e+01,  3.9000000e+01,\n",
       "         6.4816080e-02],\n",
       "       [ 4.3000000e+02,  4.2500000e+02,  8.0000000e+00,  1.1000000e+01,\n",
       "         6.4043045e-02],\n",
       "       [ 8.6100000e+02,  3.5300000e+02,  1.8000000e+01,  2.3000000e+01,\n",
       "         5.0618477e-02],\n",
       "       [ 7.3300000e+02,  3.8600000e+02,  1.4000000e+01,  1.8000000e+01,\n",
       "         4.5920018e-02],\n",
       "       [ 4.5700000e+02,  4.1500000e+02,  7.0000000e+00,  1.0000000e+01,\n",
       "         4.2989430e-02],\n",
       "       [ 6.7000000e+02,  3.0600000e+02,  2.4000000e+01,  2.8000000e+01,\n",
       "         4.0723823e-02],\n",
       "       [ 1.9400000e+02, -2.0000000e+00,  1.7000000e+01,  1.9000000e+01,\n",
       "         3.0676126e-02],\n",
       "       [ 8.0600000e+02,  3.8000000e+02,  1.4000000e+01,  1.7000000e+01,\n",
       "         3.0339984e-02],\n",
       "       [ 4.2600000e+02,  4.2500000e+02,  9.0000000e+00,  1.1000000e+01,\n",
       "         3.0337239e-02],\n",
       "       [ 7.4900000e+02,  3.7100000e+02,  1.4000000e+01,  1.8000000e+01,\n",
       "         3.0030059e-02],\n",
       "       [ 4.6600000e+02,  4.3200000e+02,  7.0000000e+00,  9.0000000e+00,\n",
       "         2.9132538e-02],\n",
       "       [ 7.9200000e+02,  4.2200000e+02,  9.0000000e+00,  1.2000000e+01,\n",
       "         2.8186874e-02],\n",
       "       [ 4.8800000e+02,  3.8100000e+02,  7.0000000e+00,  1.0000000e+01,\n",
       "         2.8158408e-02],\n",
       "       [ 4.3900000e+02,  3.5000000e+02,  8.0000000e+00,  1.0000000e+01,\n",
       "         2.7026985e-02],\n",
       "       [ 7.5900000e+02,  3.4800000e+02,  1.1000000e+01,  1.3000000e+01,\n",
       "         2.7020674e-02],\n",
       "       [ 4.7000000e+02,  3.8200000e+02,  7.0000000e+00,  9.0000000e+00,\n",
       "         2.6275462e-02],\n",
       "       [ 4.8600000e+02,  4.0000000e+02,  7.0000000e+00,  1.0000000e+01,\n",
       "         2.6152404e-02],\n",
       "       [ 7.2600000e+02,  3.9300000e+02,  1.4000000e+01,  1.6000000e+01,\n",
       "         2.5928954e-02],\n",
       "       [ 7.9200000e+02,  4.6700000e+02,  1.6000000e+01,  1.8000000e+01,\n",
       "         2.5690060e-02],\n",
       "       [ 4.7000000e+02,  3.9100000e+02,  7.0000000e+00,  9.0000000e+00,\n",
       "         2.5408408e-02],\n",
       "       [ 8.1400000e+02,  4.0400000e+02,  1.0000000e+01,  1.3000000e+01,\n",
       "         2.5292994e-02],\n",
       "       [ 4.5600000e+02,  3.8300000e+02,  6.0000000e+00,  8.0000000e+00,\n",
       "         2.5063347e-02],\n",
       "       [ 1.6800000e+02,  5.0000000e+01,  3.7000000e+01,  4.8000000e+01,\n",
       "         2.4986840e-02],\n",
       "       [ 4.8100000e+02,  4.0800000e+02,  7.0000000e+00,  9.0000000e+00,\n",
       "         2.4767937e-02],\n",
       "       [ 4.7000000e+02,  3.7500000e+02,  8.0000000e+00,  1.0000000e+01,\n",
       "         2.4172222e-02],\n",
       "       [ 4.8900000e+02,  3.7600000e+02,  6.0000000e+00,  8.0000000e+00,\n",
       "         2.3842173e-02],\n",
       "       [ 5.1300000e+02,  3.7600000e+02,  8.0000000e+00,  1.0000000e+01,\n",
       "         2.3423105e-02],\n",
       "       [ 4.6600000e+02,  3.8300000e+02,  8.0000000e+00,  9.0000000e+00,\n",
       "         2.3367163e-02],\n",
       "       [ 2.1400000e+02,  8.1000000e+01,  2.2000000e+01,  2.9000000e+01,\n",
       "         2.3126970e-02],\n",
       "       [ 7.5800000e+02,  4.0700000e+02,  1.3000000e+01,  1.5000000e+01,\n",
       "         2.2512894e-02],\n",
       "       [ 6.5100000e+02,  2.8100000e+02,  4.3000000e+01,  5.3000000e+01,\n",
       "         2.2451652e-02],\n",
       "       [ 4.7300000e+02,  4.0800000e+02,  7.0000000e+00,  1.0000000e+01,\n",
       "         2.2431692e-02],\n",
       "       [ 5.3500000e+02,  1.3600000e+02,  2.4000000e+01,  3.0000000e+01,\n",
       "         2.2001699e-02],\n",
       "       [ 4.7100000e+02,  4.3800000e+02,  7.0000000e+00,  1.0000000e+01,\n",
       "         2.1808313e-02],\n",
       "       [ 1.8400000e+02,  2.4900000e+02,  2.9000000e+01,  4.2000000e+01,\n",
       "         2.1727335e-02],\n",
       "       [ 4.7100000e+02,  4.1400000e+02,  8.0000000e+00,  1.0000000e+01,\n",
       "         2.0576417e-02],\n",
       "       [ 4.7100000e+02,  4.2400000e+02,  7.0000000e+00,  1.0000000e+01,\n",
       "         2.0321757e-02]])"
      ]
     },
     "execution_count": 10,
     "metadata": {},
     "output_type": "execute_result"
    }
   ],
   "source": [
    "preds['16--Award_Ceremony']['16_Award_Ceremony_Awards_Ceremony_16_25']"
   ]
  },
  {
   "cell_type": "code",
   "execution_count": 11,
   "metadata": {},
   "outputs": [
    {
     "data": {
      "text/plain": [
       "(52, 5)"
      ]
     },
     "execution_count": 11,
     "metadata": {},
     "output_type": "execute_result"
    }
   ],
   "source": [
    "preds['16--Award_Ceremony']['16_Award_Ceremony_Awards_Ceremony_16_25'].shape"
   ]
  },
  {
   "cell_type": "markdown",
   "metadata": {},
   "source": [
    "# Generate predictions"
   ]
  },
  {
   "cell_type": "code",
   "execution_count": 2,
   "metadata": {},
   "outputs": [],
   "source": [
    "from __future__ import print_function\n",
    "import os\n",
    "import argparse\n",
    "import torch\n",
    "import torch.backends.cudnn as cudnn\n",
    "import numpy as np\n",
    "from data import cfg_mnet, cfg_re50\n",
    "from layers.functions.prior_box import PriorBox\n",
    "from utils.nms.py_cpu_nms import py_cpu_nms\n",
    "import cv2\n",
    "from models.retinaface import RetinaFace\n",
    "from utils.box_utils import decode, decode_landm\n",
    "from utils.timer import Timer\n",
    "\n",
    "\n",
    "parser = argparse.ArgumentParser(description='Retinaface')\n",
    "parser.add_argument('-m', '--trained_model', default='./weights/Resnet50_Final.pth',\n",
    "                    type=str, help='Trained state_dict file path to open')\n",
    "parser.add_argument('--network', default='resnet50', help='Backbone network mobile0.25 or resnet50')\n",
    "parser.add_argument('--origin_size', default=True, type=str, help='Whether use origin image size to evaluate')\n",
    "parser.add_argument('--save_folder', default='./widerface_evaluate/widerface_txt/', type=str, help='Dir to save txt results')\n",
    "parser.add_argument('--cpu', action=\"store_true\", default=False, help='Use cpu inference')\n",
    "parser.add_argument('--dataset_folder', default='./data/widerface/val/images/', type=str, help='dataset path')\n",
    "parser.add_argument('--confidence_threshold', default=0.02, type=float, help='confidence_threshold')\n",
    "parser.add_argument('--top_k', default=5000, type=int, help='top_k')\n",
    "parser.add_argument('--nms_threshold', default=0.4, type=float, help='nms_threshold')\n",
    "parser.add_argument('--keep_top_k', default=750, type=int, help='keep_top_k')\n",
    "parser.add_argument('-s', '--save_image', action=\"store_true\", default=False, help='show detection results')\n",
    "parser.add_argument('--vis_thres', default=0.5, type=float, help='visualization_threshold')\n",
    "#args = parser.parse_args()\n",
    "\n",
    "args = argparse.Namespace()\n",
    "args.trained_model = './weights/mobilenet0.25_Final.pth'\n",
    "args.network = 'mobile0.25'\n",
    "args.origin_size = True\n",
    "args.save_folder = './widerface_evaluate/widerface_txt/'\n",
    "args.cpu = False\n",
    "args.dataset_folder = './data/widerface/val/images/'\n",
    "args.confidence_threshold = 0.02\n",
    "args.top_k = 5000\n",
    "args.nms_threshold = 0.4\n",
    "args.keep_top_k = 750\n",
    "args.save_image = False\n",
    "args.vis_thres = 0.5\n",
    "\n",
    "\n",
    "def check_keys(model, pretrained_state_dict):\n",
    "    ckpt_keys = set(pretrained_state_dict.keys())\n",
    "    model_keys = set(model.state_dict().keys())\n",
    "    used_pretrained_keys = model_keys & ckpt_keys\n",
    "    unused_pretrained_keys = ckpt_keys - model_keys\n",
    "    missing_keys = model_keys - ckpt_keys\n",
    "    print('Missing keys:{}'.format(len(missing_keys)))\n",
    "    print('Unused checkpoint keys:{}'.format(len(unused_pretrained_keys)))\n",
    "    print('Used keys:{}'.format(len(used_pretrained_keys)))\n",
    "    assert len(used_pretrained_keys) > 0, 'load NONE from pretrained checkpoint'\n",
    "    return True\n",
    "\n",
    "\n",
    "def remove_prefix(state_dict, prefix):\n",
    "    ''' Old style model is stored with all names of parameters sharing common prefix 'module.' '''\n",
    "    print('remove prefix \\'{}\\''.format(prefix))\n",
    "    f = lambda x: x.split(prefix, 1)[-1] if x.startswith(prefix) else x\n",
    "    return {f(key): value for key, value in state_dict.items()}\n",
    "\n",
    "\n",
    "def load_model(model, pretrained_path, load_to_cpu):\n",
    "    print('Loading pretrained model from {}'.format(pretrained_path))\n",
    "    if load_to_cpu:\n",
    "        pretrained_dict = torch.load(pretrained_path, map_location=lambda storage, loc: storage)\n",
    "    else:\n",
    "        device = torch.cuda.current_device()\n",
    "        pretrained_dict = torch.load(pretrained_path, map_location=lambda storage, loc: storage.cuda(device))\n",
    "    if \"state_dict\" in pretrained_dict.keys():\n",
    "        pretrained_dict = remove_prefix(pretrained_dict['state_dict'], 'module.')\n",
    "    else:\n",
    "        pretrained_dict = remove_prefix(pretrained_dict, 'module.')\n",
    "    check_keys(model, pretrained_dict)\n",
    "    model.load_state_dict(pretrained_dict, strict=False)\n",
    "    return model\n",
    "\n",
    "\n"
   ]
  },
  {
   "cell_type": "code",
   "execution_count": 3,
   "metadata": {},
   "outputs": [],
   "source": [
    "from collections import defaultdict\n",
    "def predict():\n",
    "    torch.set_grad_enabled(False)\n",
    "\n",
    "    cfg = None\n",
    "    if args.network == \"mobile0.25\":\n",
    "        cfg = cfg_mnet\n",
    "    elif args.network == \"resnet50\":\n",
    "        cfg = cfg_re50\n",
    "    # net and model\n",
    "    net = RetinaFace(cfg=cfg, phase = 'test')\n",
    "    net = load_model(net, args.trained_model, args.cpu)\n",
    "    net.eval()\n",
    "    print('Finished loading model!')\n",
    "    #print(net)\n",
    "    cudnn.benchmark = True\n",
    "    device = torch.device(\"cpu\" if args.cpu else \"cuda\")\n",
    "    net = net.to(device)\n",
    "\n",
    "    # testing dataset\n",
    "    testset_folder = args.dataset_folder\n",
    "    #testset_list = args.dataset_folder[:-7] + \"wider_val.txt\"\n",
    "    testset_list = args.dataset_folder[:-7] + \"wider_val_half.txt\"\n",
    "\n",
    "    with open(testset_list, 'r') as fr:\n",
    "        test_dataset = fr.read().split()[:10]\n",
    "    num_images = len(test_dataset)\n",
    "\n",
    "    _t = {'forward_pass': Timer(), 'misc': Timer()}\n",
    "\n",
    "    # testing begin\n",
    "    results = defaultdict(dict)\n",
    "    for i, img_name in enumerate(test_dataset):\n",
    "        print('img_name:', img_name)\n",
    "        image_path = testset_folder + img_name\n",
    "        img_raw = cv2.imread(image_path, cv2.IMREAD_COLOR)\n",
    "        img = np.float32(img_raw)\n",
    "\n",
    "        # testing scale\n",
    "        target_size = 1600\n",
    "        max_size = 2150\n",
    "        im_shape = img.shape\n",
    "        im_size_min = np.min(im_shape[0:2])\n",
    "        im_size_max = np.max(im_shape[0:2])\n",
    "        resize = float(target_size) / float(im_size_min)\n",
    "        # prevent bigger axis from being more than max_size:\n",
    "        if np.round(resize * im_size_max) > max_size:\n",
    "            resize = float(max_size) / float(im_size_max)\n",
    "        if args.origin_size:\n",
    "            resize = 1\n",
    "\n",
    "        if resize != 1:\n",
    "            img = cv2.resize(img, None, None, fx=resize, fy=resize, interpolation=cv2.INTER_LINEAR)\n",
    "        im_height, im_width, _ = img.shape\n",
    "        scale = torch.Tensor([img.shape[1], img.shape[0], img.shape[1], img.shape[0]])\n",
    "        img -= (104, 117, 123)\n",
    "        img = img.transpose(2, 0, 1)\n",
    "        img = torch.from_numpy(img).unsqueeze(0)\n",
    "        img = img.to(device)\n",
    "        scale = scale.to(device)\n",
    "\n",
    "        _t['forward_pass'].tic()\n",
    "        loc, conf, landms = net(img)  # forward pass\n",
    "        _t['forward_pass'].toc()\n",
    "        _t['misc'].tic()\n",
    "        priorbox = PriorBox(cfg, image_size=(im_height, im_width))\n",
    "        priors = priorbox.forward()\n",
    "        priors = priors.to(device)\n",
    "        prior_data = priors.data\n",
    "        boxes = decode(loc.data.squeeze(0), prior_data, cfg['variance'])\n",
    "        boxes = boxes * scale / resize\n",
    "        boxes = boxes.cpu().numpy()\n",
    "        scores = conf.squeeze(0).data.cpu().numpy()[:, 1]\n",
    "        landms = decode_landm(landms.data.squeeze(0), prior_data, cfg['variance'])\n",
    "        scale1 = torch.Tensor([img.shape[3], img.shape[2], img.shape[3], img.shape[2],\n",
    "                               img.shape[3], img.shape[2], img.shape[3], img.shape[2],\n",
    "                               img.shape[3], img.shape[2]])\n",
    "        scale1 = scale1.to(device)\n",
    "        landms = landms * scale1 / resize\n",
    "        landms = landms.cpu().numpy()\n",
    "\n",
    "        # ignore low scores\n",
    "        inds = np.where(scores > args.confidence_threshold)[0]\n",
    "        boxes = boxes[inds]\n",
    "        landms = landms[inds]\n",
    "        scores = scores[inds]\n",
    "\n",
    "        # keep top-K before NMS\n",
    "        order = scores.argsort()[::-1]\n",
    "        # order = scores.argsort()[::-1][:args.top_k]\n",
    "        boxes = boxes[order]\n",
    "        landms = landms[order]\n",
    "        scores = scores[order]\n",
    "\n",
    "        # do NMS\n",
    "        dets = np.hstack((boxes, scores[:, np.newaxis])).astype(np.float32, copy=False)\n",
    "        keep = py_cpu_nms(dets, args.nms_threshold)\n",
    "        # keep = nms(dets, args.nms_threshold,force_cpu=args.cpu)\n",
    "        dets = dets[keep, :]\n",
    "        landms = landms[keep]\n",
    "\n",
    "        # keep top-K faster NMS\n",
    "        # dets = dets[:args.keep_top_k, :]\n",
    "        # landms = landms[:args.keep_top_k, :]\n",
    "\n",
    "        dets = np.concatenate((dets, landms), axis=1)\n",
    "        _t['misc'].toc()\n",
    "        \n",
    "        event = img_name.split('/')[1]\n",
    "        event_img = img_name.split('/')[2][:-4]\n",
    "\n",
    "        #if event_img not in results[event]:\n",
    "        dets[:, 2] = dets[:, 2] - dets[:, 0]\n",
    "        dets[:, 3] = dets[:, 3] - dets[:, 1]\n",
    "        results[event][event_img] = dets[:, :5]\n",
    "        #print('results:', results)\n",
    "    return results\n",
    "            \n",
    "\n",
    "        "
   ]
  },
  {
   "cell_type": "code",
   "execution_count": 4,
   "metadata": {},
   "outputs": [
    {
     "name": "stdout",
     "output_type": "stream",
     "text": [
      "Loading pretrained model from ./weights/mobilenet0.25_Final.pth\n",
      "remove prefix 'module.'\n",
      "Missing keys:0\n",
      "Unused checkpoint keys:0\n",
      "Used keys:300\n",
      "Finished loading model!\n",
      "img_name: /30--Surgeons/30_Surgeons_Surgeons_30_819.jpg\n",
      "img_name: /61--Street_Battle/61_Street_Battle_streetfight_61_395.jpg\n",
      "img_name: /56--Voter/56_Voter_peoplevoting_56_122.jpg\n",
      "img_name: /21--Festival/21_Festival_Festival_21_462.jpg\n",
      "img_name: /52--Photographers/52_Photographers_photographertakingphoto_52_125.jpg\n",
      "img_name: /2--Demonstration/2_Demonstration_Political_Rally_2_137.jpg\n",
      "img_name: /35--Basketball/35_Basketball_basketballgame_ball_35_681.jpg\n",
      "img_name: /35--Basketball/35_Basketball_basketballgame_ball_35_827.jpg\n",
      "img_name: /35--Basketball/35_Basketball_playingbasketball_35_251.jpg\n",
      "img_name: /2--Demonstration/2_Demonstration_Protesters_2_352.jpg\n"
     ]
    }
   ],
   "source": [
    "results = predict()"
   ]
  },
  {
   "cell_type": "code",
   "execution_count": null,
   "metadata": {},
   "outputs": [],
   "source": []
  },
  {
   "cell_type": "code",
   "execution_count": 110,
   "metadata": {},
   "outputs": [
    {
     "name": "stdout",
     "output_type": "stream",
     "text": [
      "Loading pretrained model from ./weights/mobilenet0.25_Final.pth\n",
      "remove prefix 'module.'\n",
      "Missing keys:0\n",
      "Unused checkpoint keys:0\n",
      "Used keys:300\n",
      "Finished loading model!\n"
     ]
    }
   ],
   "source": [
    "results_half = predict()"
   ]
  },
  {
   "cell_type": "code",
   "execution_count": 25,
   "metadata": {},
   "outputs": [
    {
     "data": {
      "text/plain": [
       "True"
      ]
     },
     "execution_count": 25,
     "metadata": {},
     "output_type": "execute_result"
    }
   ],
   "source": [
    "isinstance(results, dict)"
   ]
  },
  {
   "cell_type": "code",
   "execution_count": 29,
   "metadata": {},
   "outputs": [
    {
     "name": "stdout",
     "output_type": "stream",
     "text": [
      "The autoreload extension is already loaded. To reload it, use:\n",
      "  %reload_ext autoreload\n"
     ]
    }
   ],
   "source": [
    "%load_ext autoreload"
   ]
  },
  {
   "cell_type": "code",
   "execution_count": 30,
   "metadata": {},
   "outputs": [],
   "source": [
    "%autoreload 2"
   ]
  },
  {
   "cell_type": "code",
   "execution_count": 7,
   "metadata": {},
   "outputs": [],
   "source": [
    "from widerface_evaluate.evaluation import evaluation"
   ]
  },
  {
   "cell_type": "code",
   "execution_count": 48,
   "metadata": {},
   "outputs": [],
   "source": [
    "for k1 in results:\n",
    "    for k2 in results[k1]:\n",
    "        results[k1][k2] = results[k1][k2][:, :5]"
   ]
  },
  {
   "cell_type": "code",
   "execution_count": null,
   "metadata": {},
   "outputs": [],
   "source": []
  },
  {
   "cell_type": "code",
   "execution_count": 44,
   "metadata": {},
   "outputs": [
    {
     "name": "stderr",
     "output_type": "stream",
     "text": [
      "\n",
      "\n",
      "  0%|          | 0/61 [00:00<?, ?it/s]\u001b[A\u001b[A\n",
      "\n",
      "Reading Predictions :   0%|          | 0/61 [00:00<?, ?it/s]\u001b[A\u001b[A\n",
      "\n",
      "Reading Predictions :   0%|          | 0/61 [00:00<?, ?it/s]\u001b[A\u001b[A\n",
      "\n",
      "Reading Predictions :   0%|          | 0/61 [00:00<?, ?it/s]\u001b[A\u001b[A\n",
      "\n",
      "Reading Predictions :   0%|          | 0/61 [00:00<?, ?it/s]\u001b[A\u001b[A\n",
      "\n",
      "Reading Predictions :   7%|▋         | 4/61 [00:00<00:01, 34.65it/s]\u001b[A\u001b[A\n",
      "\n",
      "Reading Predictions :   7%|▋         | 4/61 [00:00<00:01, 34.65it/s]\u001b[A\u001b[A\n",
      "\n",
      "Reading Predictions :   7%|▋         | 4/61 [00:00<00:01, 34.65it/s]\u001b[A\u001b[A\n",
      "\n",
      "Reading Predictions :   7%|▋         | 4/61 [00:00<00:01, 34.65it/s]\u001b[A\u001b[A\n",
      "\n",
      "Reading Predictions :  11%|█▏        | 7/61 [00:00<00:01, 32.20it/s]\u001b[A\u001b[A\n",
      "\n",
      "Reading Predictions :  11%|█▏        | 7/61 [00:00<00:01, 32.20it/s]\u001b[A\u001b[A\n",
      "\n",
      "Reading Predictions :  11%|█▏        | 7/61 [00:00<00:01, 32.20it/s]\u001b[A\u001b[A\n",
      "\n",
      "Reading Predictions :  11%|█▏        | 7/61 [00:00<00:01, 32.20it/s]\u001b[A\u001b[A\n",
      "\n",
      "Reading Predictions :  11%|█▏        | 7/61 [00:00<00:01, 32.20it/s]\u001b[A\u001b[A\n",
      "\n",
      "Reading Predictions :  18%|█▊        | 11/61 [00:00<00:01, 30.99it/s]\u001b[A\u001b[A\n",
      "\n",
      "Reading Predictions :  18%|█▊        | 11/61 [00:00<00:01, 30.99it/s]\u001b[A\u001b[A\n",
      "\n",
      "Reading Predictions :  18%|█▊        | 11/61 [00:00<00:01, 30.99it/s]\u001b[A\u001b[A\n",
      "\n",
      "Reading Predictions :  18%|█▊        | 11/61 [00:00<00:01, 30.99it/s]\u001b[A\u001b[A\n",
      "\n",
      "Reading Predictions :  23%|██▎       | 14/61 [00:00<00:02, 22.76it/s]\u001b[A\u001b[A\n",
      "\n",
      "Reading Predictions :  23%|██▎       | 14/61 [00:00<00:02, 22.76it/s]\u001b[A\u001b[A\n",
      "\n",
      "Reading Predictions :  23%|██▎       | 14/61 [00:00<00:02, 22.76it/s]\u001b[A\u001b[A\n",
      "\n",
      "Reading Predictions :  26%|██▌       | 16/61 [00:01<00:04,  9.87it/s]\u001b[A\u001b[A\n",
      "\n",
      "Reading Predictions :  26%|██▌       | 16/61 [00:01<00:04,  9.87it/s]\u001b[A\u001b[A\n",
      "\n",
      "Reading Predictions :  26%|██▌       | 16/61 [00:01<00:04,  9.87it/s]\u001b[A\u001b[A\n",
      "\n",
      "Reading Predictions :  26%|██▌       | 16/61 [00:01<00:04,  9.87it/s]\u001b[A\u001b[A\n",
      "\n",
      "Reading Predictions :  26%|██▌       | 16/61 [00:01<00:04,  9.87it/s]\u001b[A\u001b[A\n",
      "\n",
      "Reading Predictions :  33%|███▎      | 20/61 [00:01<00:03, 11.75it/s]\u001b[A\u001b[A\n",
      "\n",
      "Reading Predictions :  33%|███▎      | 20/61 [00:01<00:03, 11.75it/s]\u001b[A\u001b[A\n",
      "\n",
      "Reading Predictions :  33%|███▎      | 20/61 [00:01<00:03, 11.75it/s]\u001b[A\u001b[A\n",
      "\n",
      "Reading Predictions :  33%|███▎      | 20/61 [00:01<00:03, 11.75it/s]\u001b[A\u001b[A\n",
      "\n",
      "Reading Predictions :  33%|███▎      | 20/61 [00:01<00:03, 11.75it/s]\u001b[A\u001b[A\n",
      "\n",
      "Reading Predictions :  39%|███▉      | 24/61 [00:01<00:02, 14.09it/s]\u001b[A\u001b[A\n",
      "\n",
      "Reading Predictions :  39%|███▉      | 24/61 [00:01<00:02, 14.09it/s]\u001b[A\u001b[A\n",
      "\n",
      "Reading Predictions :  39%|███▉      | 24/61 [00:01<00:02, 14.09it/s]\u001b[A\u001b[A\n",
      "\n",
      "Reading Predictions :  39%|███▉      | 24/61 [00:01<00:02, 14.09it/s]\u001b[A\u001b[A\n",
      "\n",
      "Reading Predictions :  39%|███▉      | 24/61 [00:01<00:02, 14.09it/s]\u001b[A\u001b[A\n",
      "\n",
      "Reading Predictions :  46%|████▌     | 28/61 [00:01<00:01, 17.26it/s]\u001b[A\u001b[A\n",
      "\n",
      "Reading Predictions :  46%|████▌     | 28/61 [00:01<00:01, 17.26it/s]\u001b[A\u001b[A\n",
      "\n",
      "Reading Predictions :  46%|████▌     | 28/61 [00:01<00:01, 17.26it/s]\u001b[A\u001b[A\n",
      "\n",
      "Reading Predictions :  46%|████▌     | 28/61 [00:01<00:01, 17.26it/s]\u001b[A\u001b[A\n",
      "\n",
      "Reading Predictions :  46%|████▌     | 28/61 [00:01<00:01, 17.26it/s]\u001b[A\u001b[A\n",
      "\n",
      "Reading Predictions :  46%|████▌     | 28/61 [00:01<00:01, 17.26it/s]\u001b[A\u001b[A\n",
      "\n",
      "Reading Predictions :  54%|█████▍    | 33/61 [00:01<00:01, 20.97it/s]\u001b[A\u001b[A\n",
      "\n",
      "Reading Predictions :  54%|█████▍    | 33/61 [00:01<00:01, 20.97it/s]\u001b[A\u001b[A\n",
      "\n",
      "Reading Predictions :  54%|█████▍    | 33/61 [00:01<00:01, 20.97it/s]\u001b[A\u001b[A\n",
      "\n",
      "Reading Predictions :  54%|█████▍    | 33/61 [00:01<00:01, 20.97it/s]\u001b[A\u001b[A\n",
      "\n",
      "Reading Predictions :  59%|█████▉    | 36/61 [00:01<00:01, 19.11it/s]\u001b[A\u001b[A\n",
      "\n",
      "Reading Predictions :  59%|█████▉    | 36/61 [00:01<00:01, 19.11it/s]\u001b[A\u001b[A\n",
      "\n",
      "Reading Predictions :  59%|█████▉    | 36/61 [00:01<00:01, 19.11it/s]\u001b[A\u001b[A\n",
      "\n",
      "Reading Predictions :  59%|█████▉    | 36/61 [00:01<00:01, 19.11it/s]\u001b[A\u001b[A\n",
      "\n",
      "Reading Predictions :  59%|█████▉    | 36/61 [00:01<00:01, 19.11it/s]\u001b[A\u001b[A\n",
      "\n",
      "Reading Predictions :  66%|██████▌   | 40/61 [00:01<00:00, 22.47it/s]\u001b[A\u001b[A\n",
      "\n",
      "Reading Predictions :  66%|██████▌   | 40/61 [00:01<00:00, 22.47it/s]\u001b[A\u001b[A\n",
      "\n",
      "Reading Predictions :  66%|██████▌   | 40/61 [00:01<00:00, 22.47it/s]\u001b[A\u001b[A\n",
      "\n",
      "Reading Predictions :  66%|██████▌   | 40/61 [00:02<00:00, 22.47it/s]\u001b[A\u001b[A\n",
      "\n",
      "Reading Predictions :  70%|███████   | 43/61 [00:02<00:00, 22.57it/s]\u001b[A\u001b[A\n",
      "\n",
      "Reading Predictions :  70%|███████   | 43/61 [00:02<00:00, 22.57it/s]\u001b[A\u001b[A\n",
      "\n",
      "Reading Predictions :  70%|███████   | 43/61 [00:02<00:00, 22.57it/s]\u001b[A\u001b[A\n",
      "\n",
      "Reading Predictions :  70%|███████   | 43/61 [00:02<00:00, 22.57it/s]\u001b[A\u001b[A\n",
      "\n",
      "Reading Predictions :  70%|███████   | 43/61 [00:02<00:00, 22.57it/s]\u001b[A\u001b[A\n",
      "\n",
      "Reading Predictions :  77%|███████▋  | 47/61 [00:02<00:00, 24.54it/s]\u001b[A\u001b[A\n",
      "\n",
      "Reading Predictions :  77%|███████▋  | 47/61 [00:02<00:00, 24.54it/s]\u001b[A\u001b[A\n",
      "\n",
      "Reading Predictions :  77%|███████▋  | 47/61 [00:02<00:00, 24.54it/s]\u001b[A\u001b[A\n",
      "\n",
      "Reading Predictions :  77%|███████▋  | 47/61 [00:02<00:00, 24.54it/s]\u001b[A\u001b[A\n",
      "\n",
      "Reading Predictions :  77%|███████▋  | 47/61 [00:02<00:00, 24.54it/s]\u001b[A\u001b[A\n",
      "\n",
      "Reading Predictions :  84%|████████▎ | 51/61 [00:02<00:00, 26.95it/s]\u001b[A\u001b[A\n",
      "\n",
      "Reading Predictions :  84%|████████▎ | 51/61 [00:02<00:00, 26.95it/s]\u001b[A\u001b[A\n",
      "\n",
      "Reading Predictions :  84%|████████▎ | 51/61 [00:02<00:00, 26.95it/s]\u001b[A\u001b[A\n",
      "\n",
      "Reading Predictions :  84%|████████▎ | 51/61 [00:02<00:00, 26.95it/s]\u001b[A\u001b[A\n",
      "\n",
      "Reading Predictions :  84%|████████▎ | 51/61 [00:02<00:00, 26.95it/s]\u001b[A\u001b[A\n",
      "\n",
      "Reading Predictions :  90%|█████████ | 55/61 [00:02<00:00, 28.78it/s]\u001b[A\u001b[A\n",
      "\n",
      "Reading Predictions :  90%|█████████ | 55/61 [00:02<00:00, 28.78it/s]\u001b[A\u001b[A\n",
      "\n",
      "Reading Predictions :  90%|█████████ | 55/61 [00:02<00:00, 28.78it/s]\u001b[A\u001b[A\n",
      "\n",
      "Reading Predictions :  90%|█████████ | 55/61 [00:02<00:00, 28.78it/s]\u001b[A\u001b[A\n",
      "\n",
      "Reading Predictions :  90%|█████████ | 55/61 [00:02<00:00, 28.78it/s]\u001b[A\u001b[A\n",
      "\n",
      "Reading Predictions :  97%|█████████▋| 59/61 [00:02<00:00, 27.64it/s]\u001b[A\u001b[A\n",
      "\n",
      "Reading Predictions :  97%|█████████▋| 59/61 [00:02<00:00, 27.64it/s]\u001b[A\u001b[A\n",
      "\n",
      "Reading Predictions : 100%|██████████| 61/61 [00:02<00:00, 23.27it/s]\u001b[A\u001b[A\n",
      "\n",
      "\n",
      "  0%|          | 0/61 [00:00<?, ?it/s]\u001b[A\u001b[A\n",
      "\n",
      "Processing easy:   0%|          | 0/61 [00:00<?, ?it/s]\u001b[A\u001b[A\n",
      "\n",
      "Processing easy:   2%|▏         | 1/61 [00:00<00:53,  1.11it/s]\u001b[A\u001b[A\n",
      "\n",
      "Processing easy:   2%|▏         | 1/61 [00:00<00:53,  1.11it/s]\u001b[A\u001b[A\n",
      "\n",
      "Processing easy:   3%|▎         | 2/61 [00:01<00:40,  1.47it/s]\u001b[A\u001b[A\n",
      "\n",
      "Processing easy:   3%|▎         | 2/61 [00:01<00:40,  1.47it/s]\u001b[A\u001b[A\n",
      "\n",
      "Processing easy:   5%|▍         | 3/61 [00:01<00:36,  1.61it/s]\u001b[A\u001b[A\n",
      "\n",
      "Processing easy:   5%|▍         | 3/61 [00:01<00:36,  1.61it/s]\u001b[A\u001b[A\n",
      "\n",
      "Processing easy:   7%|▋         | 4/61 [00:01<00:28,  2.00it/s]\u001b[A\u001b[A\n",
      "\n",
      "Processing easy:   7%|▋         | 4/61 [00:01<00:28,  2.00it/s]\u001b[A\u001b[A\n",
      "\n",
      "Processing easy:   8%|▊         | 5/61 [00:02<00:34,  1.63it/s]\u001b[A\u001b[A\n",
      "\n",
      "Processing easy:   8%|▊         | 5/61 [00:02<00:34,  1.63it/s]\u001b[A\u001b[A\n",
      "\n",
      "Processing easy:  10%|▉         | 6/61 [00:03<00:36,  1.50it/s]\u001b[A\u001b[A\n",
      "\n",
      "Processing easy:  10%|▉         | 6/61 [00:03<00:36,  1.50it/s]\u001b[A\u001b[A\n",
      "\n",
      "Processing easy:  11%|█▏        | 7/61 [00:03<00:27,  1.99it/s]\u001b[A\u001b[A\n",
      "\n",
      "Processing easy:  11%|█▏        | 7/61 [00:03<00:27,  1.99it/s]\u001b[A\u001b[A\n",
      "\n",
      "Processing easy:  13%|█▎        | 8/61 [00:03<00:20,  2.61it/s]\u001b[A\u001b[A\n",
      "\n",
      "Processing easy:  13%|█▎        | 8/61 [00:03<00:20,  2.61it/s]\u001b[A\u001b[A\n",
      "\n",
      "Processing easy:  15%|█▍        | 9/61 [00:03<00:18,  2.88it/s]\u001b[A\u001b[A\n",
      "\n",
      "Processing easy:  15%|█▍        | 9/61 [00:03<00:18,  2.88it/s]\u001b[A\u001b[A\n",
      "\n",
      "Processing easy:  16%|█▋        | 10/61 [00:04<00:15,  3.19it/s]\u001b[A\u001b[A\n",
      "\n",
      "Processing easy:  16%|█▋        | 10/61 [00:04<00:15,  3.19it/s]\u001b[A\u001b[A\n",
      "\n",
      "Processing easy:  18%|█▊        | 11/61 [00:04<00:15,  3.16it/s]\u001b[A\u001b[A\n",
      "\n",
      "Processing easy:  18%|█▊        | 11/61 [00:04<00:15,  3.16it/s]\u001b[A\u001b[A\n",
      "\n",
      "Processing easy:  20%|█▉        | 12/61 [00:04<00:13,  3.56it/s]\u001b[A\u001b[A\n",
      "\n",
      "Processing easy:  20%|█▉        | 12/61 [00:04<00:13,  3.56it/s]\u001b[A\u001b[A\n",
      "\n",
      "Processing easy:  21%|██▏       | 13/61 [00:06<00:36,  1.32it/s]\u001b[A\u001b[A\n",
      "\n",
      "Processing easy:  21%|██▏       | 13/61 [00:06<00:36,  1.32it/s]\u001b[A\u001b[A\n",
      "\n",
      "Processing easy:  23%|██▎       | 14/61 [00:06<00:29,  1.59it/s]\u001b[A\u001b[A\n",
      "\n",
      "Processing easy:  23%|██▎       | 14/61 [00:06<00:29,  1.59it/s]\u001b[A\u001b[A\n",
      "\n",
      "Processing easy:  25%|██▍       | 15/61 [00:07<00:25,  1.82it/s]\u001b[A\u001b[A\n",
      "\n",
      "Processing easy:  25%|██▍       | 15/61 [00:07<00:25,  1.82it/s]\u001b[A\u001b[A\n",
      "\n",
      "Processing easy:  26%|██▌       | 16/61 [00:07<00:19,  2.31it/s]\u001b[A\u001b[A\n",
      "\n",
      "Processing easy:  26%|██▌       | 16/61 [00:07<00:19,  2.31it/s]\u001b[A\u001b[A\n",
      "\n",
      "Processing easy:  28%|██▊       | 17/61 [00:07<00:16,  2.64it/s]\u001b[A\u001b[A\n",
      "\n",
      "Processing easy:  28%|██▊       | 17/61 [00:07<00:16,  2.64it/s]\u001b[A\u001b[A\n",
      "\n",
      "Processing easy:  30%|██▉       | 18/61 [00:07<00:13,  3.14it/s]\u001b[A\u001b[A\n",
      "\n",
      "Processing easy:  30%|██▉       | 18/61 [00:07<00:13,  3.14it/s]\u001b[A\u001b[A\n",
      "\n",
      "Processing easy:  31%|███       | 19/61 [00:08<00:12,  3.29it/s]\u001b[A\u001b[A\n",
      "\n",
      "Processing easy:  31%|███       | 19/61 [00:08<00:12,  3.29it/s]\u001b[A\u001b[A\n",
      "\n",
      "Processing easy:  33%|███▎      | 20/61 [00:08<00:11,  3.58it/s]\u001b[A\u001b[A\n",
      "\n",
      "Processing easy:  33%|███▎      | 20/61 [00:08<00:11,  3.58it/s]\u001b[A\u001b[A\n",
      "\n",
      "Processing easy:  34%|███▍      | 21/61 [00:08<00:09,  4.35it/s]\u001b[A\u001b[A\n",
      "\n",
      "Processing easy:  34%|███▍      | 21/61 [00:08<00:09,  4.35it/s]\u001b[A\u001b[A\n",
      "\n",
      "Processing easy:  36%|███▌      | 22/61 [00:08<00:09,  4.10it/s]\u001b[A\u001b[A\n",
      "\n",
      "Processing easy:  36%|███▌      | 22/61 [00:08<00:09,  4.10it/s]\u001b[A\u001b[A\n",
      "\n",
      "Processing easy:  38%|███▊      | 23/61 [00:09<00:09,  3.90it/s]\u001b[A\u001b[A\n",
      "\n",
      "Processing easy:  38%|███▊      | 23/61 [00:09<00:09,  3.90it/s]\u001b[A\u001b[A\n",
      "\n",
      "Processing easy:  39%|███▉      | 24/61 [00:09<00:09,  3.91it/s]\u001b[A\u001b[A\n",
      "\n",
      "Processing easy:  39%|███▉      | 24/61 [00:09<00:09,  3.91it/s]\u001b[A\u001b[A\n",
      "\n",
      "Processing easy:  41%|████      | 25/61 [00:09<00:08,  4.03it/s]\u001b[A\u001b[A\n",
      "\n",
      "Processing easy:  41%|████      | 25/61 [00:09<00:08,  4.03it/s]\u001b[A\u001b[A\n",
      "\n",
      "Processing easy:  43%|████▎     | 26/61 [00:09<00:08,  3.90it/s]\u001b[A\u001b[A\n",
      "\n",
      "Processing easy:  43%|████▎     | 26/61 [00:09<00:08,  3.90it/s]\u001b[A\u001b[A\n",
      "\n",
      "Processing easy:  44%|████▍     | 27/61 [00:10<00:08,  3.88it/s]\u001b[A\u001b[A\n",
      "\n",
      "Processing easy:  44%|████▍     | 27/61 [00:10<00:08,  3.88it/s]\u001b[A\u001b[A\n",
      "\n",
      "Processing easy:  46%|████▌     | 28/61 [00:10<00:07,  4.45it/s]\u001b[A\u001b[A\n",
      "\n",
      "Processing easy:  46%|████▌     | 28/61 [00:10<00:07,  4.45it/s]\u001b[A\u001b[A\n",
      "\n",
      "Processing easy:  48%|████▊     | 29/61 [00:10<00:06,  5.08it/s]\u001b[A\u001b[A\n",
      "\n",
      "Processing easy:  48%|████▊     | 29/61 [00:10<00:06,  5.08it/s]\u001b[A\u001b[A\n",
      "\n",
      "Processing easy:  49%|████▉     | 30/61 [00:11<00:12,  2.51it/s]\u001b[A\u001b[A\n",
      "\n",
      "Processing easy:  49%|████▉     | 30/61 [00:11<00:12,  2.51it/s]\u001b[A\u001b[A\n",
      "\n",
      "Processing easy:  51%|█████     | 31/61 [00:11<00:10,  2.83it/s]\u001b[A\u001b[A\n",
      "\n",
      "Processing easy:  51%|█████     | 31/61 [00:11<00:10,  2.83it/s]\u001b[A\u001b[A\n",
      "\n",
      "Processing easy:  52%|█████▏    | 32/61 [00:11<00:09,  2.91it/s]\u001b[A\u001b[A\n",
      "\n",
      "Processing easy:  52%|█████▏    | 32/61 [00:11<00:09,  2.91it/s]\u001b[A\u001b[A\n",
      "\n",
      "Processing easy:  54%|█████▍    | 33/61 [00:11<00:08,  3.31it/s]\u001b[A\u001b[A\n",
      "\n",
      "Processing easy:  54%|█████▍    | 33/61 [00:11<00:08,  3.31it/s]\u001b[A\u001b[A\n",
      "\n",
      "Processing easy:  56%|█████▌    | 34/61 [00:12<00:09,  2.92it/s]\u001b[A\u001b[A\n",
      "\n",
      "Processing easy:  56%|█████▌    | 34/61 [00:12<00:09,  2.92it/s]\u001b[A\u001b[A\n",
      "\n",
      "Processing easy:  57%|█████▋    | 35/61 [00:12<00:08,  3.19it/s]\u001b[A\u001b[A\n",
      "\n",
      "Processing easy:  57%|█████▋    | 35/61 [00:12<00:08,  3.19it/s]\u001b[A\u001b[A\n",
      "\n",
      "Processing easy:  59%|█████▉    | 36/61 [00:12<00:08,  3.08it/s]\u001b[A\u001b[A\n",
      "\n",
      "Processing easy:  59%|█████▉    | 36/61 [00:12<00:08,  3.08it/s]\u001b[A\u001b[A\n",
      "\n",
      "Processing easy:  61%|██████    | 37/61 [00:13<00:08,  2.85it/s]\u001b[A\u001b[A\n",
      "\n",
      "Processing easy:  61%|██████    | 37/61 [00:13<00:08,  2.85it/s]\u001b[A\u001b[A\n",
      "\n",
      "Processing easy:  62%|██████▏   | 38/61 [00:13<00:06,  3.57it/s]\u001b[A\u001b[A\n",
      "\n",
      "Processing easy:  62%|██████▏   | 38/61 [00:13<00:06,  3.57it/s]\u001b[A\u001b[A\n",
      "\n",
      "Processing easy:  64%|██████▍   | 39/61 [00:13<00:05,  3.75it/s]\u001b[A\u001b[A\n",
      "\n",
      "Processing easy:  64%|██████▍   | 39/61 [00:13<00:05,  3.75it/s]\u001b[A\u001b[A\n",
      "\n",
      "Processing easy:  66%|██████▌   | 40/61 [00:14<00:05,  3.61it/s]\u001b[A\u001b[A\n",
      "\n",
      "Processing easy:  66%|██████▌   | 40/61 [00:14<00:05,  3.61it/s]\u001b[A\u001b[A\n",
      "\n",
      "Processing easy:  67%|██████▋   | 41/61 [00:14<00:04,  4.02it/s]\u001b[A\u001b[A\n",
      "\n",
      "Processing easy:  67%|██████▋   | 41/61 [00:14<00:04,  4.02it/s]\u001b[A\u001b[A\n",
      "\n",
      "Processing easy:  69%|██████▉   | 42/61 [00:14<00:04,  4.43it/s]\u001b[A\u001b[A\n",
      "\n",
      "Processing easy:  69%|██████▉   | 42/61 [00:14<00:04,  4.43it/s]\u001b[A\u001b[A\n",
      "\n",
      "Processing easy:  70%|███████   | 43/61 [00:14<00:04,  3.76it/s]\u001b[A\u001b[A\n",
      "\n",
      "Processing easy:  70%|███████   | 43/61 [00:14<00:04,  3.76it/s]\u001b[A\u001b[A\n",
      "\n",
      "Processing easy:  72%|███████▏  | 44/61 [00:14<00:03,  4.56it/s]\u001b[A\u001b[A\n",
      "\n",
      "Processing easy:  72%|███████▏  | 44/61 [00:14<00:03,  4.56it/s]\u001b[A\u001b[A\n",
      "\n",
      "Processing easy:  74%|███████▍  | 45/61 [00:15<00:03,  4.51it/s]\u001b[A\u001b[A\n",
      "\n",
      "Processing easy:  74%|███████▍  | 45/61 [00:15<00:03,  4.51it/s]\u001b[A\u001b[A\n",
      "\n",
      "Processing easy:  75%|███████▌  | 46/61 [00:15<00:03,  4.16it/s]\u001b[A\u001b[A\n",
      "\n",
      "Processing easy:  75%|███████▌  | 46/61 [00:15<00:03,  4.16it/s]\u001b[A\u001b[A\n",
      "\n",
      "Processing easy:  77%|███████▋  | 47/61 [00:15<00:03,  3.95it/s]\u001b[A\u001b[A\n",
      "\n",
      "Processing easy:  77%|███████▋  | 47/61 [00:15<00:03,  3.95it/s]\u001b[A\u001b[A\n",
      "\n",
      "Processing easy:  79%|███████▊  | 48/61 [00:16<00:03,  3.37it/s]\u001b[A\u001b[A\n",
      "\n",
      "Processing easy:  79%|███████▊  | 48/61 [00:16<00:03,  3.37it/s]\u001b[A\u001b[A\n",
      "\n",
      "Processing easy:  80%|████████  | 49/61 [00:16<00:03,  3.31it/s]\u001b[A\u001b[A\n",
      "\n",
      "Processing easy:  80%|████████  | 49/61 [00:16<00:03,  3.31it/s]\u001b[A\u001b[A\n",
      "\n",
      "Processing easy:  82%|████████▏ | 50/61 [00:16<00:03,  3.50it/s]\u001b[A\u001b[A\n",
      "\n",
      "Processing easy:  82%|████████▏ | 50/61 [00:16<00:03,  3.50it/s]\u001b[A\u001b[A\n",
      "\n",
      "Processing easy:  84%|████████▎ | 51/61 [00:16<00:02,  3.43it/s]\u001b[A\u001b[A\n",
      "\n",
      "Processing easy:  84%|████████▎ | 51/61 [00:16<00:02,  3.43it/s]\u001b[A\u001b[A\n",
      "\n",
      "Processing easy:  85%|████████▌ | 52/61 [00:17<00:02,  3.35it/s]\u001b[A\u001b[A\n",
      "\n",
      "Processing easy:  85%|████████▌ | 52/61 [00:17<00:02,  3.35it/s]\u001b[A\u001b[A\n",
      "\n",
      "Processing easy:  87%|████████▋ | 53/61 [00:17<00:02,  3.36it/s]\u001b[A\u001b[A\n",
      "\n",
      "Processing easy:  87%|████████▋ | 53/61 [00:17<00:02,  3.36it/s]\u001b[A\u001b[A\n",
      "\n",
      "Processing easy:  89%|████████▊ | 54/61 [00:17<00:01,  3.61it/s]\u001b[A\u001b[A\n",
      "\n",
      "Processing easy:  89%|████████▊ | 54/61 [00:17<00:01,  3.61it/s]\u001b[A\u001b[A\n",
      "\n",
      "Processing easy:  90%|█████████ | 55/61 [00:18<00:01,  3.62it/s]\u001b[A\u001b[A\n",
      "\n",
      "Processing easy:  90%|█████████ | 55/61 [00:18<00:01,  3.62it/s]\u001b[A\u001b[A\n",
      "\n",
      "Processing easy:  92%|█████████▏| 56/61 [00:18<00:01,  4.03it/s]\u001b[A\u001b[A\n",
      "\n",
      "Processing easy:  92%|█████████▏| 56/61 [00:18<00:01,  4.03it/s]\u001b[A\u001b[A\n",
      "\n",
      "Processing easy:  93%|█████████▎| 57/61 [00:18<00:01,  3.98it/s]\u001b[A\u001b[A\n",
      "\n",
      "Processing easy:  93%|█████████▎| 57/61 [00:18<00:01,  3.98it/s]\u001b[A\u001b[A\n",
      "\n",
      "Processing easy:  95%|█████████▌| 58/61 [00:18<00:00,  4.35it/s]\u001b[A\u001b[A\n",
      "\n",
      "Processing easy:  95%|█████████▌| 58/61 [00:18<00:00,  4.35it/s]\u001b[A\u001b[A\n",
      "\n",
      "Processing easy:  97%|█████████▋| 59/61 [00:18<00:00,  4.14it/s]\u001b[A\u001b[A\n",
      "\n",
      "Processing easy:  97%|█████████▋| 59/61 [00:18<00:00,  4.14it/s]\u001b[A\u001b[A\n",
      "\n",
      "Processing easy:  98%|█████████▊| 60/61 [00:19<00:00,  4.25it/s]\u001b[A\u001b[A\n",
      "\n",
      "Processing easy:  98%|█████████▊| 60/61 [00:19<00:00,  4.25it/s]\u001b[A\u001b[A\n",
      "\n",
      "Processing easy: 100%|██████████| 61/61 [00:19<00:00,  3.12it/s]\u001b[A\u001b[A\n",
      "\n",
      "\n",
      "  0%|          | 0/61 [00:00<?, ?it/s]\u001b[A\u001b[A\n",
      "\n",
      "Processing medium:   0%|          | 0/61 [00:00<?, ?it/s]\u001b[A\u001b[A\n",
      "\n",
      "Processing medium:   2%|▏         | 1/61 [00:00<00:53,  1.13it/s]\u001b[A\u001b[A\n",
      "\n",
      "Processing medium:   2%|▏         | 1/61 [00:00<00:53,  1.13it/s]\u001b[A\u001b[A\n",
      "\n",
      "Processing medium:   3%|▎         | 2/61 [00:01<00:39,  1.49it/s]\u001b[A\u001b[A\n",
      "\n",
      "Processing medium:   3%|▎         | 2/61 [00:01<00:39,  1.49it/s]\u001b[A\u001b[A\n",
      "\n",
      "Processing medium:   5%|▍         | 3/61 [00:01<00:35,  1.63it/s]\u001b[A\u001b[A\n",
      "\n",
      "Processing medium:   5%|▍         | 3/61 [00:01<00:35,  1.63it/s]\u001b[A\u001b[A\n",
      "\n",
      "Processing medium:   7%|▋         | 4/61 [00:01<00:28,  2.02it/s]\u001b[A\u001b[A\n",
      "\n",
      "Processing medium:   7%|▋         | 4/61 [00:01<00:28,  2.02it/s]\u001b[A\u001b[A\n",
      "\n",
      "Processing medium:   8%|▊         | 5/61 [00:02<00:33,  1.66it/s]\u001b[A\u001b[A\n",
      "\n",
      "Processing medium:   8%|▊         | 5/61 [00:02<00:33,  1.66it/s]\u001b[A\u001b[A\n",
      "\n",
      "Processing medium:  10%|▉         | 6/61 [00:03<00:36,  1.52it/s]\u001b[A\u001b[A\n",
      "\n",
      "Processing medium:  10%|▉         | 6/61 [00:03<00:36,  1.52it/s]\u001b[A\u001b[A\n",
      "\n",
      "Processing medium:  11%|█▏        | 7/61 [00:03<00:26,  2.02it/s]\u001b[A\u001b[A\n",
      "\n",
      "Processing medium:  11%|█▏        | 7/61 [00:03<00:26,  2.02it/s]\u001b[A\u001b[A\n",
      "\n",
      "Processing medium:  13%|█▎        | 8/61 [00:03<00:20,  2.65it/s]\u001b[A\u001b[A\n",
      "\n",
      "Processing medium:  13%|█▎        | 8/61 [00:03<00:20,  2.65it/s]\u001b[A\u001b[A\n",
      "\n",
      "Processing medium:  15%|█▍        | 9/61 [00:03<00:17,  2.94it/s]\u001b[A\u001b[A\n",
      "\n",
      "Processing medium:  15%|█▍        | 9/61 [00:03<00:17,  2.94it/s]\u001b[A\u001b[A\n",
      "\n",
      "Processing medium:  16%|█▋        | 10/61 [00:04<00:15,  3.25it/s]\u001b[A\u001b[A\n",
      "\n",
      "Processing medium:  16%|█▋        | 10/61 [00:04<00:15,  3.25it/s]\u001b[A\u001b[A\n",
      "\n"
     ]
    },
    {
     "name": "stderr",
     "output_type": "stream",
     "text": [
      "Processing medium:  18%|█▊        | 11/61 [00:04<00:15,  3.22it/s]\u001b[A\u001b[A\n",
      "\n",
      "Processing medium:  18%|█▊        | 11/61 [00:04<00:15,  3.22it/s]\u001b[A\u001b[A\n",
      "\n",
      "Processing medium:  20%|█▉        | 12/61 [00:04<00:13,  3.64it/s]\u001b[A\u001b[A\n",
      "\n",
      "Processing medium:  20%|█▉        | 12/61 [00:04<00:13,  3.64it/s]\u001b[A\u001b[A\n",
      "\n",
      "Processing medium:  21%|██▏       | 13/61 [00:06<00:35,  1.34it/s]\u001b[A\u001b[A\n",
      "\n",
      "Processing medium:  21%|██▏       | 13/61 [00:06<00:35,  1.34it/s]\u001b[A\u001b[A\n",
      "\n",
      "Processing medium:  23%|██▎       | 14/61 [00:06<00:29,  1.61it/s]\u001b[A\u001b[A\n",
      "\n",
      "Processing medium:  23%|██▎       | 14/61 [00:06<00:29,  1.61it/s]\u001b[A\u001b[A\n",
      "\n",
      "Processing medium:  25%|██▍       | 15/61 [00:07<00:24,  1.85it/s]\u001b[A\u001b[A\n",
      "\n",
      "Processing medium:  25%|██▍       | 15/61 [00:07<00:24,  1.85it/s]\u001b[A\u001b[A\n",
      "\n",
      "Processing medium:  26%|██▌       | 16/61 [00:07<00:18,  2.37it/s]\u001b[A\u001b[A\n",
      "\n",
      "Processing medium:  26%|██▌       | 16/61 [00:07<00:18,  2.37it/s]\u001b[A\u001b[A\n",
      "\n",
      "Processing medium:  28%|██▊       | 17/61 [00:07<00:16,  2.72it/s]\u001b[A\u001b[A\n",
      "\n",
      "Processing medium:  28%|██▊       | 17/61 [00:07<00:16,  2.72it/s]\u001b[A\u001b[A\n",
      "\n",
      "Processing medium:  30%|██▉       | 18/61 [00:07<00:13,  3.22it/s]\u001b[A\u001b[A\n",
      "\n",
      "Processing medium:  30%|██▉       | 18/61 [00:07<00:13,  3.22it/s]\u001b[A\u001b[A\n",
      "\n",
      "Processing medium:  31%|███       | 19/61 [00:07<00:12,  3.38it/s]\u001b[A\u001b[A\n",
      "\n",
      "Processing medium:  31%|███       | 19/61 [00:07<00:12,  3.38it/s]\u001b[A\u001b[A\n",
      "\n",
      "Processing medium:  33%|███▎      | 20/61 [00:08<00:11,  3.69it/s]\u001b[A\u001b[A\n",
      "\n",
      "Processing medium:  33%|███▎      | 20/61 [00:08<00:11,  3.69it/s]\u001b[A\u001b[A\n",
      "\n",
      "Processing medium:  34%|███▍      | 21/61 [00:08<00:08,  4.48it/s]\u001b[A\u001b[A\n",
      "\n",
      "Processing medium:  34%|███▍      | 21/61 [00:08<00:08,  4.48it/s]\u001b[A\u001b[A\n",
      "\n",
      "Processing medium:  36%|███▌      | 22/61 [00:08<00:09,  4.20it/s]\u001b[A\u001b[A\n",
      "\n",
      "Processing medium:  36%|███▌      | 22/61 [00:08<00:09,  4.20it/s]\u001b[A\u001b[A\n",
      "\n",
      "Processing medium:  38%|███▊      | 23/61 [00:08<00:09,  3.96it/s]\u001b[A\u001b[A\n",
      "\n",
      "Processing medium:  38%|███▊      | 23/61 [00:08<00:09,  3.96it/s]\u001b[A\u001b[A\n",
      "\n",
      "Processing medium:  39%|███▉      | 24/61 [00:09<00:09,  3.99it/s]\u001b[A\u001b[A\n",
      "\n",
      "Processing medium:  39%|███▉      | 24/61 [00:09<00:09,  3.99it/s]\u001b[A\u001b[A\n",
      "\n",
      "Processing medium:  41%|████      | 25/61 [00:09<00:08,  4.12it/s]\u001b[A\u001b[A\n",
      "\n",
      "Processing medium:  41%|████      | 25/61 [00:09<00:08,  4.12it/s]\u001b[A\u001b[A\n",
      "\n",
      "Processing medium:  43%|████▎     | 26/61 [00:09<00:08,  3.97it/s]\u001b[A\u001b[A\n",
      "\n",
      "Processing medium:  43%|████▎     | 26/61 [00:09<00:08,  3.97it/s]\u001b[A\u001b[A\n",
      "\n",
      "Processing medium:  44%|████▍     | 27/61 [00:09<00:08,  3.99it/s]\u001b[A\u001b[A\n",
      "\n",
      "Processing medium:  44%|████▍     | 27/61 [00:09<00:08,  3.99it/s]\u001b[A\u001b[A\n",
      "\n",
      "Processing medium:  46%|████▌     | 28/61 [00:09<00:07,  4.52it/s]\u001b[A\u001b[A\n",
      "\n",
      "Processing medium:  46%|████▌     | 28/61 [00:09<00:07,  4.52it/s]\u001b[A\u001b[A\n",
      "\n",
      "Processing medium:  48%|████▊     | 29/61 [00:10<00:06,  5.15it/s]\u001b[A\u001b[A\n",
      "\n",
      "Processing medium:  48%|████▊     | 29/61 [00:10<00:06,  5.15it/s]\u001b[A\u001b[A\n",
      "\n",
      "Processing medium:  49%|████▉     | 30/61 [00:10<00:12,  2.54it/s]\u001b[A\u001b[A\n",
      "\n",
      "Processing medium:  49%|████▉     | 30/61 [00:10<00:12,  2.54it/s]\u001b[A\u001b[A\n",
      "\n",
      "Processing medium:  51%|█████     | 31/61 [00:11<00:10,  2.84it/s]\u001b[A\u001b[A\n",
      "\n",
      "Processing medium:  51%|█████     | 31/61 [00:11<00:10,  2.84it/s]\u001b[A\u001b[A\n",
      "\n",
      "Processing medium:  52%|█████▏    | 32/61 [00:11<00:09,  2.94it/s]\u001b[A\u001b[A\n",
      "\n",
      "Processing medium:  52%|█████▏    | 32/61 [00:11<00:09,  2.94it/s]\u001b[A\u001b[A\n",
      "\n",
      "Processing medium:  54%|█████▍    | 33/61 [00:11<00:08,  3.38it/s]\u001b[A\u001b[A\n",
      "\n",
      "Processing medium:  54%|█████▍    | 33/61 [00:11<00:08,  3.38it/s]\u001b[A\u001b[A\n",
      "\n",
      "Processing medium:  56%|█████▌    | 34/61 [00:12<00:09,  2.99it/s]\u001b[A\u001b[A\n",
      "\n",
      "Processing medium:  56%|█████▌    | 34/61 [00:12<00:09,  2.99it/s]\u001b[A\u001b[A\n",
      "\n",
      "Processing medium:  57%|█████▋    | 35/61 [00:12<00:07,  3.29it/s]\u001b[A\u001b[A\n",
      "\n",
      "Processing medium:  57%|█████▋    | 35/61 [00:12<00:07,  3.29it/s]\u001b[A\u001b[A\n",
      "\n",
      "Processing medium:  59%|█████▉    | 36/61 [00:12<00:08,  3.12it/s]\u001b[A\u001b[A\n",
      "\n",
      "Processing medium:  59%|█████▉    | 36/61 [00:12<00:08,  3.12it/s]\u001b[A\u001b[A\n",
      "\n",
      "Processing medium:  61%|██████    | 37/61 [00:13<00:08,  2.88it/s]\u001b[A\u001b[A\n",
      "\n",
      "Processing medium:  61%|██████    | 37/61 [00:13<00:08,  2.88it/s]\u001b[A\u001b[A\n",
      "\n",
      "Processing medium:  62%|██████▏   | 38/61 [00:13<00:06,  3.59it/s]\u001b[A\u001b[A\n",
      "\n",
      "Processing medium:  62%|██████▏   | 38/61 [00:13<00:06,  3.59it/s]\u001b[A\u001b[A\n",
      "\n",
      "Processing medium:  64%|██████▍   | 39/61 [00:13<00:05,  3.77it/s]\u001b[A\u001b[A\n",
      "\n",
      "Processing medium:  64%|██████▍   | 39/61 [00:13<00:05,  3.77it/s]\u001b[A\u001b[A\n",
      "\n",
      "Processing medium:  66%|██████▌   | 40/61 [00:13<00:05,  3.57it/s]\u001b[A\u001b[A\n",
      "\n",
      "Processing medium:  66%|██████▌   | 40/61 [00:13<00:05,  3.57it/s]\u001b[A\u001b[A\n",
      "\n",
      "Processing medium:  67%|██████▋   | 41/61 [00:14<00:04,  4.01it/s]\u001b[A\u001b[A\n",
      "\n",
      "Processing medium:  67%|██████▋   | 41/61 [00:14<00:04,  4.01it/s]\u001b[A\u001b[A\n",
      "\n",
      "Processing medium:  69%|██████▉   | 42/61 [00:14<00:04,  4.38it/s]\u001b[A\u001b[A\n",
      "\n",
      "Processing medium:  69%|██████▉   | 42/61 [00:14<00:04,  4.38it/s]\u001b[A\u001b[A\n",
      "\n",
      "Processing medium:  70%|███████   | 43/61 [00:14<00:04,  3.72it/s]\u001b[A\u001b[A\n",
      "\n",
      "Processing medium:  70%|███████   | 43/61 [00:14<00:04,  3.72it/s]\u001b[A\u001b[A\n",
      "\n",
      "Processing medium:  72%|███████▏  | 44/61 [00:14<00:03,  4.52it/s]\u001b[A\u001b[A\n",
      "\n",
      "Processing medium:  72%|███████▏  | 44/61 [00:14<00:03,  4.52it/s]\u001b[A\u001b[A\n",
      "\n",
      "Processing medium:  74%|███████▍  | 45/61 [00:14<00:03,  4.48it/s]\u001b[A\u001b[A\n",
      "\n",
      "Processing medium:  74%|███████▍  | 45/61 [00:14<00:03,  4.48it/s]\u001b[A\u001b[A\n",
      "\n",
      "Processing medium:  75%|███████▌  | 46/61 [00:15<00:03,  4.11it/s]\u001b[A\u001b[A\n",
      "\n",
      "Processing medium:  75%|███████▌  | 46/61 [00:15<00:03,  4.11it/s]\u001b[A\u001b[A\n",
      "\n",
      "Processing medium:  77%|███████▋  | 47/61 [00:15<00:03,  3.89it/s]\u001b[A\u001b[A\n",
      "\n",
      "Processing medium:  77%|███████▋  | 47/61 [00:15<00:03,  3.89it/s]\u001b[A\u001b[A\n",
      "\n",
      "Processing medium:  79%|███████▊  | 48/61 [00:15<00:03,  3.29it/s]\u001b[A\u001b[A\n",
      "\n",
      "Processing medium:  79%|███████▊  | 48/61 [00:15<00:03,  3.29it/s]\u001b[A\u001b[A\n",
      "\n",
      "Processing medium:  80%|████████  | 49/61 [00:16<00:03,  3.23it/s]\u001b[A\u001b[A\n",
      "\n",
      "Processing medium:  80%|████████  | 49/61 [00:16<00:03,  3.23it/s]\u001b[A\u001b[A\n",
      "\n",
      "Processing medium:  82%|████████▏ | 50/61 [00:16<00:03,  3.43it/s]\u001b[A\u001b[A\n",
      "\n",
      "Processing medium:  82%|████████▏ | 50/61 [00:16<00:03,  3.43it/s]\u001b[A\u001b[A\n",
      "\n",
      "Processing medium:  84%|████████▎ | 51/61 [00:16<00:02,  3.38it/s]\u001b[A\u001b[A\n",
      "\n",
      "Processing medium:  84%|████████▎ | 51/61 [00:16<00:02,  3.38it/s]\u001b[A\u001b[A\n",
      "\n",
      "Processing medium:  85%|████████▌ | 52/61 [00:17<00:02,  3.31it/s]\u001b[A\u001b[A\n",
      "\n",
      "Processing medium:  85%|████████▌ | 52/61 [00:17<00:02,  3.31it/s]\u001b[A\u001b[A\n",
      "\n",
      "Processing medium:  87%|████████▋ | 53/61 [00:17<00:02,  3.27it/s]\u001b[A\u001b[A\n",
      "\n",
      "Processing medium:  87%|████████▋ | 53/61 [00:17<00:02,  3.27it/s]\u001b[A\u001b[A\n",
      "\n",
      "Processing medium:  89%|████████▊ | 54/61 [00:17<00:01,  3.58it/s]\u001b[A\u001b[A\n",
      "\n",
      "Processing medium:  89%|████████▊ | 54/61 [00:17<00:01,  3.58it/s]\u001b[A\u001b[A\n",
      "\n",
      "Processing medium:  90%|█████████ | 55/61 [00:17<00:01,  3.57it/s]\u001b[A\u001b[A\n",
      "\n",
      "Processing medium:  90%|█████████ | 55/61 [00:17<00:01,  3.57it/s]\u001b[A\u001b[A\n",
      "\n",
      "Processing medium:  92%|█████████▏| 56/61 [00:18<00:01,  4.01it/s]\u001b[A\u001b[A\n",
      "\n",
      "Processing medium:  92%|█████████▏| 56/61 [00:18<00:01,  4.01it/s]\u001b[A\u001b[A\n",
      "\n",
      "Processing medium:  93%|█████████▎| 57/61 [00:18<00:00,  4.01it/s]\u001b[A\u001b[A\n",
      "\n",
      "Processing medium:  93%|█████████▎| 57/61 [00:18<00:00,  4.01it/s]\u001b[A\u001b[A\n",
      "\n",
      "Processing medium:  95%|█████████▌| 58/61 [00:18<00:00,  4.38it/s]\u001b[A\u001b[A\n",
      "\n",
      "Processing medium:  95%|█████████▌| 58/61 [00:18<00:00,  4.38it/s]\u001b[A\u001b[A\n",
      "\n",
      "Processing medium:  97%|█████████▋| 59/61 [00:18<00:00,  4.12it/s]\u001b[A\u001b[A\n",
      "\n",
      "Processing medium:  97%|█████████▋| 59/61 [00:18<00:00,  4.12it/s]\u001b[A\u001b[A\n",
      "\n",
      "Processing medium:  98%|█████████▊| 60/61 [00:18<00:00,  4.24it/s]\u001b[A\u001b[A\n",
      "\n",
      "Processing medium:  98%|█████████▊| 60/61 [00:18<00:00,  4.24it/s]\u001b[A\u001b[A\n",
      "\n",
      "Processing medium: 100%|██████████| 61/61 [00:19<00:00,  3.14it/s]\u001b[A\u001b[A\n",
      "\n",
      "\n",
      "  0%|          | 0/61 [00:00<?, ?it/s]\u001b[A\u001b[A\n",
      "\n",
      "Processing hard:   0%|          | 0/61 [00:00<?, ?it/s]\u001b[A\u001b[A\n",
      "\n",
      "Processing hard:   2%|▏         | 1/61 [00:00<00:53,  1.12it/s]\u001b[A\u001b[A\n",
      "\n",
      "Processing hard:   2%|▏         | 1/61 [00:00<00:53,  1.12it/s]\u001b[A\u001b[A\n",
      "\n",
      "Processing hard:   3%|▎         | 2/61 [00:01<00:39,  1.48it/s]\u001b[A\u001b[A\n",
      "\n",
      "Processing hard:   3%|▎         | 2/61 [00:01<00:39,  1.48it/s]\u001b[A\u001b[A\n",
      "\n",
      "Processing hard:   5%|▍         | 3/61 [00:01<00:35,  1.62it/s]\u001b[A\u001b[A\n",
      "\n",
      "Processing hard:   5%|▍         | 3/61 [00:01<00:35,  1.62it/s]\u001b[A\u001b[A\n",
      "\n",
      "Processing hard:   7%|▋         | 4/61 [00:01<00:28,  2.01it/s]\u001b[A\u001b[A\n",
      "\n",
      "Processing hard:   7%|▋         | 4/61 [00:01<00:28,  2.01it/s]\u001b[A\u001b[A\n",
      "\n",
      "Processing hard:   8%|▊         | 5/61 [00:02<00:34,  1.64it/s]\u001b[A\u001b[A\n",
      "\n",
      "Processing hard:   8%|▊         | 5/61 [00:02<00:34,  1.64it/s]\u001b[A\u001b[A\n",
      "\n",
      "Processing hard:  10%|▉         | 6/61 [00:03<00:36,  1.52it/s]\u001b[A\u001b[A\n",
      "\n",
      "Processing hard:  10%|▉         | 6/61 [00:03<00:36,  1.52it/s]\u001b[A\u001b[A\n",
      "\n",
      "Processing hard:  11%|█▏        | 7/61 [00:03<00:26,  2.02it/s]\u001b[A\u001b[A\n",
      "\n",
      "Processing hard:  11%|█▏        | 7/61 [00:03<00:26,  2.02it/s]\u001b[A\u001b[A\n",
      "\n",
      "Processing hard:  13%|█▎        | 8/61 [00:03<00:20,  2.64it/s]\u001b[A\u001b[A\n",
      "\n",
      "Processing hard:  13%|█▎        | 8/61 [00:03<00:20,  2.64it/s]\u001b[A\u001b[A\n",
      "\n",
      "Processing hard:  15%|█▍        | 9/61 [00:03<00:17,  2.94it/s]\u001b[A\u001b[A\n",
      "\n",
      "Processing hard:  15%|█▍        | 9/61 [00:03<00:17,  2.94it/s]\u001b[A\u001b[A\n",
      "\n",
      "Processing hard:  16%|█▋        | 10/61 [00:04<00:15,  3.25it/s]\u001b[A\u001b[A\n",
      "\n",
      "Processing hard:  16%|█▋        | 10/61 [00:04<00:15,  3.25it/s]\u001b[A\u001b[A\n",
      "\n",
      "Processing hard:  18%|█▊        | 11/61 [00:04<00:15,  3.23it/s]\u001b[A\u001b[A\n",
      "\n",
      "Processing hard:  18%|█▊        | 11/61 [00:04<00:15,  3.23it/s]\u001b[A\u001b[A\n",
      "\n",
      "Processing hard:  20%|█▉        | 12/61 [00:04<00:13,  3.64it/s]\u001b[A\u001b[A\n",
      "\n",
      "Processing hard:  20%|█▉        | 12/61 [00:04<00:13,  3.64it/s]\u001b[A\u001b[A\n",
      "\n",
      "Processing hard:  21%|██▏       | 13/61 [00:06<00:35,  1.34it/s]\u001b[A\u001b[A\n",
      "\n",
      "Processing hard:  21%|██▏       | 13/61 [00:06<00:35,  1.34it/s]\u001b[A\u001b[A\n",
      "\n",
      "Processing hard:  23%|██▎       | 14/61 [00:06<00:29,  1.61it/s]\u001b[A\u001b[A\n",
      "\n",
      "Processing hard:  23%|██▎       | 14/61 [00:06<00:29,  1.61it/s]\u001b[A\u001b[A\n",
      "\n",
      "Processing hard:  25%|██▍       | 15/61 [00:07<00:24,  1.85it/s]\u001b[A\u001b[A\n",
      "\n",
      "Processing hard:  25%|██▍       | 15/61 [00:07<00:24,  1.85it/s]\u001b[A\u001b[A\n",
      "\n",
      "Processing hard:  26%|██▌       | 16/61 [00:07<00:18,  2.37it/s]\u001b[A\u001b[A\n",
      "\n",
      "Processing hard:  26%|██▌       | 16/61 [00:07<00:18,  2.37it/s]\u001b[A\u001b[A\n",
      "\n",
      "Processing hard:  28%|██▊       | 17/61 [00:07<00:16,  2.72it/s]\u001b[A\u001b[A\n",
      "\n",
      "Processing hard:  28%|██▊       | 17/61 [00:07<00:16,  2.72it/s]\u001b[A\u001b[A\n",
      "\n",
      "Processing hard:  30%|██▉       | 18/61 [00:07<00:13,  3.23it/s]\u001b[A\u001b[A\n",
      "\n",
      "Processing hard:  30%|██▉       | 18/61 [00:07<00:13,  3.23it/s]\u001b[A\u001b[A\n",
      "\n",
      "Processing hard:  31%|███       | 19/61 [00:07<00:12,  3.39it/s]\u001b[A\u001b[A\n",
      "\n",
      "Processing hard:  31%|███       | 19/61 [00:07<00:12,  3.39it/s]\u001b[A\u001b[A\n",
      "\n",
      "Processing hard:  33%|███▎      | 20/61 [00:08<00:11,  3.69it/s]\u001b[A\u001b[A\n",
      "\n",
      "Processing hard:  33%|███▎      | 20/61 [00:08<00:11,  3.69it/s]\u001b[A\u001b[A\n",
      "\n",
      "Processing hard:  34%|███▍      | 21/61 [00:08<00:08,  4.47it/s]\u001b[A\u001b[A\n",
      "\n",
      "Processing hard:  34%|███▍      | 21/61 [00:08<00:08,  4.47it/s]\u001b[A\u001b[A\n",
      "\n",
      "Processing hard:  36%|███▌      | 22/61 [00:08<00:09,  4.18it/s]\u001b[A\u001b[A\n",
      "\n",
      "Processing hard:  36%|███▌      | 22/61 [00:08<00:09,  4.18it/s]\u001b[A\u001b[A\n",
      "\n",
      "Processing hard:  38%|███▊      | 23/61 [00:08<00:09,  3.96it/s]\u001b[A\u001b[A\n",
      "\n",
      "Processing hard:  38%|███▊      | 23/61 [00:08<00:09,  3.96it/s]\u001b[A\u001b[A\n",
      "\n",
      "Processing hard:  39%|███▉      | 24/61 [00:09<00:09,  3.94it/s]\u001b[A\u001b[A\n",
      "\n",
      "Processing hard:  39%|███▉      | 24/61 [00:09<00:09,  3.94it/s]\u001b[A\u001b[A\n",
      "\n",
      "Processing hard:  41%|████      | 25/61 [00:09<00:08,  4.07it/s]\u001b[A\u001b[A\n",
      "\n",
      "Processing hard:  41%|████      | 25/61 [00:09<00:08,  4.07it/s]\u001b[A\u001b[A\n",
      "\n",
      "Processing hard:  43%|████▎     | 26/61 [00:09<00:08,  3.94it/s]\u001b[A\u001b[A\n",
      "\n",
      "Processing hard:  43%|████▎     | 26/61 [00:09<00:08,  3.94it/s]\u001b[A\u001b[A\n",
      "\n",
      "Processing hard:  44%|████▍     | 27/61 [00:09<00:08,  3.97it/s]\u001b[A\u001b[A\n",
      "\n",
      "Processing hard:  44%|████▍     | 27/61 [00:09<00:08,  3.97it/s]\u001b[A\u001b[A\n",
      "\n",
      "Processing hard:  46%|████▌     | 28/61 [00:10<00:07,  4.56it/s]\u001b[A\u001b[A\n",
      "\n",
      "Processing hard:  46%|████▌     | 28/61 [00:10<00:07,  4.56it/s]\u001b[A\u001b[A\n",
      "\n",
      "Processing hard:  48%|████▊     | 29/61 [00:10<00:06,  5.20it/s]\u001b[A\u001b[A\n",
      "\n",
      "Processing hard:  48%|████▊     | 29/61 [00:10<00:06,  5.20it/s]\u001b[A\u001b[A\n",
      "\n",
      "Processing hard:  49%|████▉     | 30/61 [00:11<00:12,  2.53it/s]\u001b[A\u001b[A\n",
      "\n",
      "Processing hard:  49%|████▉     | 30/61 [00:11<00:12,  2.53it/s]\u001b[A\u001b[A\n",
      "\n",
      "Processing hard:  51%|█████     | 31/61 [00:11<00:10,  2.83it/s]\u001b[A\u001b[A\n",
      "\n",
      "Processing hard:  51%|█████     | 31/61 [00:11<00:10,  2.83it/s]\u001b[A\u001b[A\n",
      "\n",
      "Processing hard:  52%|█████▏    | 32/61 [00:11<00:09,  2.95it/s]\u001b[A\u001b[A\n",
      "\n",
      "Processing hard:  52%|█████▏    | 32/61 [00:11<00:09,  2.95it/s]\u001b[A\u001b[A\n",
      "\n",
      "Processing hard:  54%|█████▍    | 33/61 [00:11<00:08,  3.38it/s]\u001b[A\u001b[A\n",
      "\n",
      "Processing hard:  54%|█████▍    | 33/61 [00:11<00:08,  3.38it/s]\u001b[A\u001b[A\n",
      "\n",
      "Processing hard:  56%|█████▌    | 34/61 [00:12<00:09,  2.98it/s]\u001b[A\u001b[A\n",
      "\n",
      "Processing hard:  56%|█████▌    | 34/61 [00:12<00:09,  2.98it/s]\u001b[A\u001b[A\n",
      "\n",
      "Processing hard:  57%|█████▋    | 35/61 [00:12<00:08,  3.24it/s]\u001b[A\u001b[A\n",
      "\n",
      "Processing hard:  57%|█████▋    | 35/61 [00:12<00:08,  3.24it/s]\u001b[A\u001b[A\n",
      "\n",
      "Processing hard:  59%|█████▉    | 36/61 [00:12<00:08,  3.07it/s]\u001b[A\u001b[A\n",
      "\n",
      "Processing hard:  59%|█████▉    | 36/61 [00:12<00:08,  3.07it/s]\u001b[A\u001b[A\n",
      "\n",
      "Processing hard:  61%|██████    | 37/61 [00:13<00:08,  2.85it/s]\u001b[A\u001b[A\n",
      "\n",
      "Processing hard:  61%|██████    | 37/61 [00:13<00:08,  2.85it/s]\u001b[A\u001b[A\n",
      "\n",
      "Processing hard:  62%|██████▏   | 38/61 [00:13<00:06,  3.57it/s]\u001b[A\u001b[A\n",
      "\n",
      "Processing hard:  62%|██████▏   | 38/61 [00:13<00:06,  3.57it/s]\u001b[A\u001b[A\n",
      "\n",
      "Processing hard:  64%|██████▍   | 39/61 [00:13<00:05,  3.76it/s]\u001b[A\u001b[A\n",
      "\n",
      "Processing hard:  64%|██████▍   | 39/61 [00:13<00:05,  3.76it/s]\u001b[A\u001b[A\n",
      "\n",
      "Processing hard:  66%|██████▌   | 40/61 [00:13<00:05,  3.62it/s]\u001b[A\u001b[A\n",
      "\n",
      "Processing hard:  66%|██████▌   | 40/61 [00:13<00:05,  3.62it/s]\u001b[A\u001b[A\n",
      "\n",
      "Processing hard:  67%|██████▋   | 41/61 [00:14<00:04,  4.04it/s]\u001b[A\u001b[A\n",
      "\n",
      "Processing hard:  67%|██████▋   | 41/61 [00:14<00:04,  4.04it/s]\u001b[A\u001b[A\n",
      "\n",
      "Processing hard:  69%|██████▉   | 42/61 [00:14<00:04,  4.46it/s]\u001b[A\u001b[A\n",
      "\n",
      "Processing hard:  69%|██████▉   | 42/61 [00:14<00:04,  4.46it/s]\u001b[A\u001b[A\n",
      "\n",
      "Processing hard:  70%|███████   | 43/61 [00:14<00:04,  3.78it/s]\u001b[A\u001b[A\n",
      "\n",
      "Processing hard:  70%|███████   | 43/61 [00:14<00:04,  3.78it/s]\u001b[A\u001b[A\n",
      "\n",
      "Processing hard:  72%|███████▏  | 44/61 [00:14<00:03,  4.58it/s]\u001b[A\u001b[A\n",
      "\n",
      "Processing hard:  72%|███████▏  | 44/61 [00:14<00:03,  4.58it/s]\u001b[A\u001b[A\n",
      "\n",
      "Processing hard:  74%|███████▍  | 45/61 [00:14<00:03,  4.49it/s]\u001b[A\u001b[A\n",
      "\n",
      "Processing hard:  74%|███████▍  | 45/61 [00:14<00:03,  4.49it/s]\u001b[A\u001b[A\n",
      "\n",
      "Processing hard:  75%|███████▌  | 46/61 [00:15<00:03,  4.16it/s]\u001b[A\u001b[A\n",
      "\n",
      "Processing hard:  75%|███████▌  | 46/61 [00:15<00:03,  4.16it/s]\u001b[A\u001b[A\n",
      "\n",
      "Processing hard:  77%|███████▋  | 47/61 [00:15<00:03,  3.95it/s]\u001b[A\u001b[A\n",
      "\n",
      "Processing hard:  77%|███████▋  | 47/61 [00:15<00:03,  3.95it/s]\u001b[A\u001b[A\n",
      "\n",
      "Processing hard:  79%|███████▊  | 48/61 [00:15<00:03,  3.35it/s]\u001b[A\u001b[A\n",
      "\n",
      "Processing hard:  79%|███████▊  | 48/61 [00:15<00:03,  3.35it/s]\u001b[A\u001b[A\n",
      "\n",
      "Processing hard:  80%|████████  | 49/61 [00:16<00:03,  3.29it/s]\u001b[A\u001b[A\n",
      "\n",
      "Processing hard:  80%|████████  | 49/61 [00:16<00:03,  3.29it/s]\u001b[A\u001b[A\n",
      "\n",
      "Processing hard:  82%|████████▏ | 50/61 [00:16<00:03,  3.48it/s]\u001b[A\u001b[A\n",
      "\n",
      "Processing hard:  82%|████████▏ | 50/61 [00:16<00:03,  3.48it/s]\u001b[A\u001b[A\n",
      "\n",
      "Processing hard:  84%|████████▎ | 51/61 [00:16<00:02,  3.41it/s]\u001b[A\u001b[A\n",
      "\n",
      "Processing hard:  84%|████████▎ | 51/61 [00:16<00:02,  3.41it/s]\u001b[A\u001b[A\n",
      "\n",
      "Processing hard:  85%|████████▌ | 52/61 [00:17<00:02,  3.33it/s]\u001b[A\u001b[A\n",
      "\n",
      "Processing hard:  85%|████████▌ | 52/61 [00:17<00:02,  3.33it/s]\u001b[A\u001b[A\n",
      "\n",
      "Processing hard:  87%|████████▋ | 53/61 [00:17<00:02,  3.33it/s]\u001b[A\u001b[A\n",
      "\n",
      "Processing hard:  87%|████████▋ | 53/61 [00:17<00:02,  3.33it/s]\u001b[A\u001b[A\n",
      "\n",
      "Processing hard:  89%|████████▊ | 54/61 [00:17<00:01,  3.64it/s]\u001b[A\u001b[A\n",
      "\n",
      "Processing hard:  89%|████████▊ | 54/61 [00:17<00:01,  3.64it/s]\u001b[A\u001b[A\n",
      "\n",
      "Processing hard:  90%|█████████ | 55/61 [00:17<00:01,  3.64it/s]\u001b[A\u001b[A\n",
      "\n",
      "Processing hard:  90%|█████████ | 55/61 [00:17<00:01,  3.64it/s]\u001b[A\u001b[A\n",
      "\n",
      "Processing hard:  92%|█████████▏| 56/61 [00:18<00:01,  4.08it/s]\u001b[A\u001b[A\n",
      "\n",
      "Processing hard:  92%|█████████▏| 56/61 [00:18<00:01,  4.08it/s]\u001b[A\u001b[A\n",
      "\n",
      "Processing hard:  93%|█████████▎| 57/61 [00:18<00:00,  4.05it/s]\u001b[A\u001b[A\n",
      "\n",
      "Processing hard:  93%|█████████▎| 57/61 [00:18<00:00,  4.05it/s]\u001b[A\u001b[A\n",
      "\n",
      "Processing hard:  95%|█████████▌| 58/61 [00:18<00:00,  4.40it/s]\u001b[A\u001b[A\n",
      "\n",
      "Processing hard:  95%|█████████▌| 58/61 [00:18<00:00,  4.40it/s]\u001b[A\u001b[A\n",
      "\n",
      "Processing hard:  97%|█████████▋| 59/61 [00:18<00:00,  4.20it/s]\u001b[A\u001b[A\n",
      "\n",
      "Processing hard:  97%|█████████▋| 59/61 [00:18<00:00,  4.20it/s]\u001b[A\u001b[A\n",
      "\n",
      "Processing hard:  98%|█████████▊| 60/61 [00:18<00:00,  4.29it/s]\u001b[A\u001b[A\n",
      "\n",
      "Processing hard:  98%|█████████▊| 60/61 [00:18<00:00,  4.29it/s]\u001b[A\u001b[A\n",
      "\n",
      "Processing hard: 100%|██████████| 61/61 [00:19<00:00,  3.15it/s]\u001b[A\u001b[A"
     ]
    },
    {
     "name": "stdout",
     "output_type": "stream",
     "text": [
      "==================== Results ====================\n",
      "Easy   Val AP: 0.9069475485616837\n",
      "Medium Val AP: 0.8815776272763326\n",
      "Hard   Val AP: 0.7382405876506333\n",
      "=================================================\n"
     ]
    },
    {
     "name": "stderr",
     "output_type": "stream",
     "text": [
      "\n"
     ]
    }
   ],
   "source": [
    "evaluation('./widerface_evaluate/widerface_txt/', './widerface_evaluate/ground_truth/')"
   ]
  },
  {
   "cell_type": "code",
   "execution_count": 8,
   "metadata": {},
   "outputs": [
    {
     "name": "stderr",
     "output_type": "stream",
     "text": [
      "Processing easy: 100%|██████████| 61/61 [00:00<00:00, 614.37it/s]\n",
      "Processing medium: 100%|██████████| 61/61 [00:00<00:00, 655.00it/s]\n",
      "Processing hard: 100%|██████████| 61/61 [00:00<00:00, 655.16it/s]\n"
     ]
    },
    {
     "name": "stdout",
     "output_type": "stream",
     "text": [
      "==================== Results ====================\n",
      "Easy   Val AP: 0.8626247460639476\n",
      "Medium Val AP: 0.794121319941008\n",
      "Hard   Val AP: 0.748112891684837\n",
      "=================================================\n"
     ]
    },
    {
     "data": {
      "text/plain": [
       "[0.8626247460639476, 0.794121319941008, 0.748112891684837]"
      ]
     },
     "execution_count": 8,
     "metadata": {},
     "output_type": "execute_result"
    }
   ],
   "source": [
    "evaluation(results, './widerface_evaluate/ground_truth/')"
   ]
  },
  {
   "cell_type": "code",
   "execution_count": 33,
   "metadata": {},
   "outputs": [
    {
     "name": "stderr",
     "output_type": "stream",
     "text": [
      "\n",
      "  0%|          | 0/61 [00:00<?, ?it/s]\u001b[A\n",
      "Reading Predictions :   0%|          | 0/61 [00:00<?, ?it/s]\u001b[A\n",
      "Reading Predictions :   0%|          | 0/61 [00:00<?, ?it/s]\u001b[A\n",
      "Reading Predictions :   3%|▎         | 2/61 [00:00<00:07,  8.12it/s]\u001b[A\n",
      "Reading Predictions :   3%|▎         | 2/61 [00:00<00:07,  8.12it/s]\u001b[A\n",
      "Reading Predictions :   5%|▍         | 3/61 [00:00<00:09,  5.94it/s]\u001b[A\n",
      "Reading Predictions :   5%|▍         | 3/61 [00:00<00:09,  5.94it/s]\u001b[A\n",
      "Reading Predictions :   7%|▋         | 4/61 [00:00<00:09,  6.00it/s]\u001b[A\n",
      "Reading Predictions :   7%|▋         | 4/61 [00:00<00:09,  6.00it/s]\u001b[A\n",
      "Reading Predictions :   7%|▋         | 4/61 [00:00<00:09,  6.00it/s]\u001b[A\n",
      "Reading Predictions :  10%|▉         | 6/61 [00:01<00:09,  5.78it/s]\u001b[A\n",
      "Reading Predictions :  10%|▉         | 6/61 [00:01<00:09,  5.78it/s]\u001b[A\n",
      "Reading Predictions :  11%|█▏        | 7/61 [00:01<00:08,  6.27it/s]\u001b[A\n",
      "Reading Predictions :  11%|█▏        | 7/61 [00:01<00:08,  6.27it/s]\u001b[A\n",
      "Reading Predictions :  13%|█▎        | 8/61 [00:01<00:08,  5.93it/s]\u001b[A\n",
      "Reading Predictions :  13%|█▎        | 8/61 [00:01<00:08,  5.93it/s]\u001b[A\n",
      "Reading Predictions :  13%|█▎        | 8/61 [00:01<00:08,  5.93it/s]\u001b[A\n",
      "Reading Predictions :  16%|█▋        | 10/61 [00:01<00:07,  6.57it/s]\u001b[A\n",
      "Reading Predictions :  16%|█▋        | 10/61 [00:01<00:07,  6.57it/s]\u001b[A\n",
      "Reading Predictions :  16%|█▋        | 10/61 [00:01<00:07,  6.57it/s]\u001b[A\n",
      "Reading Predictions :  20%|█▉        | 12/61 [00:01<00:06,  7.79it/s]\u001b[A\n",
      "Reading Predictions :  20%|█▉        | 12/61 [00:01<00:06,  7.79it/s]\u001b[A\n",
      "Reading Predictions :  21%|██▏       | 13/61 [00:02<00:08,  5.53it/s]\u001b[A\n",
      "Reading Predictions :  21%|██▏       | 13/61 [00:02<00:08,  5.53it/s]\u001b[A\n",
      "Reading Predictions :  23%|██▎       | 14/61 [00:02<00:14,  3.26it/s]\u001b[A\n",
      "Reading Predictions :  23%|██▎       | 14/61 [00:02<00:14,  3.26it/s]\u001b[A\n",
      "Reading Predictions :  23%|██▎       | 14/61 [00:02<00:14,  3.26it/s]\u001b[A\n",
      "Reading Predictions :  26%|██▌       | 16/61 [00:03<00:12,  3.64it/s]\u001b[A\n",
      "Reading Predictions :  26%|██▌       | 16/61 [00:03<00:12,  3.64it/s]\u001b[A\n",
      "Reading Predictions :  28%|██▊       | 17/61 [00:03<00:10,  4.08it/s]\u001b[A\n",
      "Reading Predictions :  28%|██▊       | 17/61 [00:03<00:10,  4.08it/s]\u001b[A\n",
      "Reading Predictions :  28%|██▊       | 17/61 [00:03<00:10,  4.08it/s]\u001b[A\n",
      "Reading Predictions :  28%|██▊       | 17/61 [00:03<00:10,  4.08it/s]\u001b[A\n",
      "Reading Predictions :  33%|███▎      | 20/61 [00:03<00:09,  4.38it/s]\u001b[A\n",
      "Reading Predictions :  33%|███▎      | 20/61 [00:03<00:09,  4.38it/s]\u001b[A\n",
      "Reading Predictions :  33%|███▎      | 20/61 [00:03<00:09,  4.38it/s]\u001b[A\n",
      "Reading Predictions :  36%|███▌      | 22/61 [00:04<00:07,  5.22it/s]\u001b[A\n",
      "Reading Predictions :  36%|███▌      | 22/61 [00:04<00:07,  5.22it/s]\u001b[A\n",
      "Reading Predictions :  38%|███▊      | 23/61 [00:04<00:08,  4.37it/s]\u001b[A\n",
      "Reading Predictions :  38%|███▊      | 23/61 [00:04<00:08,  4.37it/s]\u001b[A\n",
      "Reading Predictions :  39%|███▉      | 24/61 [00:04<00:07,  4.76it/s]\u001b[A\n",
      "Reading Predictions :  39%|███▉      | 24/61 [00:04<00:07,  4.76it/s]\u001b[A\n",
      "Reading Predictions :  41%|████      | 25/61 [00:04<00:07,  4.65it/s]\u001b[A\n",
      "Reading Predictions :  41%|████      | 25/61 [00:04<00:07,  4.65it/s]\u001b[A\n",
      "Reading Predictions :  41%|████      | 25/61 [00:04<00:07,  4.65it/s]\u001b[A\n",
      "Reading Predictions :  44%|████▍     | 27/61 [00:04<00:06,  5.47it/s]\u001b[A\n",
      "Reading Predictions :  44%|████▍     | 27/61 [00:04<00:06,  5.47it/s]\u001b[A\n",
      "Reading Predictions :  46%|████▌     | 28/61 [00:05<00:07,  4.63it/s]\u001b[A\n",
      "Reading Predictions :  46%|████▌     | 28/61 [00:05<00:07,  4.63it/s]\u001b[A\n",
      "Reading Predictions :  46%|████▌     | 28/61 [00:05<00:07,  4.63it/s]\u001b[A\n",
      "Reading Predictions :  49%|████▉     | 30/61 [00:05<00:05,  5.45it/s]\u001b[A\n",
      "Reading Predictions :  49%|████▉     | 30/61 [00:05<00:05,  5.45it/s]\u001b[A\n",
      "Reading Predictions :  49%|████▉     | 30/61 [00:05<00:05,  5.45it/s]\u001b[A\n",
      "Reading Predictions :  52%|█████▏    | 32/61 [00:05<00:04,  6.92it/s]\u001b[A\n",
      "Reading Predictions :  52%|█████▏    | 32/61 [00:05<00:04,  6.92it/s]\u001b[A\n",
      "Reading Predictions :  52%|█████▏    | 32/61 [00:05<00:04,  6.92it/s]\u001b[A\n",
      "Reading Predictions :  56%|█████▌    | 34/61 [00:05<00:03,  6.78it/s]\u001b[A\n",
      "Reading Predictions :  56%|█████▌    | 34/61 [00:05<00:03,  6.78it/s]\u001b[A\n",
      "Reading Predictions :  56%|█████▌    | 34/61 [00:05<00:03,  6.78it/s]\u001b[A\n",
      "Reading Predictions :  56%|█████▌    | 34/61 [00:05<00:03,  6.78it/s]\u001b[A\n",
      "Reading Predictions :  61%|██████    | 37/61 [00:06<00:02,  8.21it/s]\u001b[A\n",
      "Reading Predictions :  61%|██████    | 37/61 [00:06<00:02,  8.21it/s]\u001b[A\n",
      "Reading Predictions :  61%|██████    | 37/61 [00:06<00:02,  8.21it/s]\u001b[A\n",
      "Reading Predictions :  64%|██████▍   | 39/61 [00:06<00:03,  6.52it/s]\u001b[A\n",
      "Reading Predictions :  64%|██████▍   | 39/61 [00:06<00:03,  6.52it/s]\u001b[A\n",
      "Reading Predictions :  66%|██████▌   | 40/61 [00:06<00:02,  7.09it/s]\u001b[A\n",
      "Reading Predictions :  66%|██████▌   | 40/61 [00:06<00:02,  7.09it/s]\u001b[A\n",
      "Reading Predictions :  66%|██████▌   | 40/61 [00:06<00:02,  7.09it/s]\u001b[A\n",
      "Reading Predictions :  69%|██████▉   | 42/61 [00:06<00:02,  8.74it/s]\u001b[A\n",
      "Reading Predictions :  69%|██████▉   | 42/61 [00:06<00:02,  8.74it/s]\u001b[A\n",
      "Reading Predictions :  69%|██████▉   | 42/61 [00:06<00:02,  8.74it/s]\u001b[A\n",
      "Reading Predictions :  72%|███████▏  | 44/61 [00:07<00:02,  7.17it/s]\u001b[A\n",
      "Reading Predictions :  72%|███████▏  | 44/61 [00:07<00:02,  7.17it/s]\u001b[A\n",
      "Reading Predictions :  72%|███████▏  | 44/61 [00:07<00:02,  7.17it/s]\u001b[A\n",
      "Reading Predictions :  72%|███████▏  | 44/61 [00:07<00:02,  7.17it/s]\u001b[A\n",
      "Reading Predictions :  77%|███████▋  | 47/61 [00:07<00:01,  9.04it/s]\u001b[A\n",
      "Reading Predictions :  77%|███████▋  | 47/61 [00:07<00:01,  9.04it/s]\u001b[A\n",
      "Reading Predictions :  77%|███████▋  | 47/61 [00:07<00:01,  9.04it/s]\u001b[A\n",
      "Reading Predictions :  80%|████████  | 49/61 [00:07<00:01,  7.87it/s]\u001b[A\n",
      "Reading Predictions :  80%|████████  | 49/61 [00:07<00:01,  7.87it/s]\u001b[A\n",
      "Reading Predictions :  80%|████████  | 49/61 [00:07<00:01,  7.87it/s]\u001b[A\n",
      "Reading Predictions :  84%|████████▎ | 51/61 [00:08<00:01,  6.47it/s]\u001b[A\n",
      "Reading Predictions :  84%|████████▎ | 51/61 [00:08<00:01,  6.47it/s]\u001b[A\n",
      "Reading Predictions :  84%|████████▎ | 51/61 [00:08<00:01,  6.47it/s]\u001b[A\n",
      "Reading Predictions :  84%|████████▎ | 51/61 [00:08<00:01,  6.47it/s]\u001b[A\n",
      "Reading Predictions :  84%|████████▎ | 51/61 [00:08<00:01,  6.47it/s]\u001b[A\n",
      "Reading Predictions :  90%|█████████ | 55/61 [00:08<00:00,  8.40it/s]\u001b[A\n",
      "Reading Predictions :  90%|█████████ | 55/61 [00:08<00:00,  8.40it/s]\u001b[A\n",
      "Reading Predictions :  90%|█████████ | 55/61 [00:08<00:00,  8.40it/s]\u001b[A\n",
      "Reading Predictions :  93%|█████████▎| 57/61 [00:08<00:00,  8.26it/s]\u001b[A\n",
      "Reading Predictions :  93%|█████████▎| 57/61 [00:08<00:00,  8.26it/s]\u001b[A\n",
      "Reading Predictions :  93%|█████████▎| 57/61 [00:08<00:00,  8.26it/s]\u001b[A\n",
      "Reading Predictions :  97%|█████████▋| 59/61 [00:08<00:00,  7.47it/s]\u001b[A\n",
      "Reading Predictions :  97%|█████████▋| 59/61 [00:08<00:00,  7.47it/s]\u001b[A\n",
      "Reading Predictions : 100%|██████████| 61/61 [00:08<00:00,  6.93it/s]\u001b[A\n"
     ]
    }
   ],
   "source": [
    "preds_txt = get_preds('./widerface_evaluate/widerface_txt/')"
   ]
  },
  {
   "cell_type": "code",
   "execution_count": 34,
   "metadata": {},
   "outputs": [
    {
     "data": {
      "text/plain": [
       "dict_keys(['15--Stock_Market', '46--Jockey', '47--Matador_Bullfighter', '11--Meeting', '26--Soldier_Drilling', '39--Ice_Skating', '29--Students_Schoolkids', '57--Angler', '18--Concerts', '45--Balloonist', '24--Soldier_Firing', '31--Waiter_Waitress', '41--Swimming', '0--Parade', '40--Gymnastics', '2--Demonstration', '43--Row_Boat', '36--Football', '27--Spa', '12--Group', '34--Baseball', '6--Funeral', '51--Dresses', '10--People_Marching', '56--Voter', '42--Car_Racing', '61--Street_Battle', '9--Press_Conference', '14--Traffic', '50--Celebration_Or_Party', '38--Tennis', '48--Parachutist_Paratrooper', '5--Car_Accident', '35--Basketball', '19--Couple', '16--Award_Ceremony', '8--Election_Campain', '55--Sports_Coach_Trainer', '49--Greeting', '22--Picnic', '21--Festival', '20--Family_Group', '54--Rescue', '7--Cheering', '25--Soldier_Patrol', '32--Worker_Laborer', '28--Sports_Fan', '44--Aerobics', '30--Surgeons', '52--Photographers', '53--Raid', '3--Riot', '23--Shoppers', '1--Handshaking', '17--Ceremony', '59--people--driving--car', '13--Interview', '58--Hockey', '4--Dancing', '37--Soccer', '33--Running'])"
      ]
     },
     "execution_count": 34,
     "metadata": {},
     "output_type": "execute_result"
    }
   ],
   "source": [
    "preds_txt.keys()"
   ]
  },
  {
   "cell_type": "code",
   "execution_count": 36,
   "metadata": {},
   "outputs": [
    {
     "data": {
      "text/plain": [
       "array([[ 6.14000000e+02,  5.67000000e+02,  2.46000000e+02,\n",
       "         2.70000000e+02,  9.47911400e-01],\n",
       "       [ 4.86000000e+02,  4.76000000e+02,  2.20000000e+02,\n",
       "         3.46000000e+02,  2.32893240e-01],\n",
       "       [ 5.24000000e+02,  4.86000000e+02,  1.35000000e+02,\n",
       "         2.07000000e+02,  1.80130900e-01],\n",
       "       [ 6.23000000e+02,  5.67000000e+02,  3.58000000e+02,\n",
       "         4.54000000e+02,  1.51137960e-01],\n",
       "       [ 5.60000000e+02,  1.50000000e+02,  3.99000000e+02,\n",
       "         5.08000000e+02,  1.19611934e-01],\n",
       "       [ 4.93000000e+02,  3.79000000e+02,  3.96000000e+02,\n",
       "         4.72000000e+02,  1.14329670e-01],\n",
       "       [ 3.66000000e+02,  7.29000000e+02,  5.10000000e+01,\n",
       "         6.60000000e+01,  9.68831550e-02],\n",
       "       [ 4.10000000e+02,  7.80000000e+02,  3.85000000e+02,\n",
       "         5.51000000e+02,  7.98499360e-02],\n",
       "       [ 3.41000000e+02,  3.97000000e+02,  3.13000000e+02,\n",
       "         4.54000000e+02,  7.16069800e-02],\n",
       "       [ 3.92000000e+02,  5.34000000e+02,  4.09000000e+02,\n",
       "         4.51000000e+02,  4.96769470e-02],\n",
       "       [ 6.23000000e+02,  1.26000000e+03,  3.95000000e+02,\n",
       "         4.34000000e+02,  4.94625000e-02],\n",
       "       [ 4.74000000e+02,  8.04000000e+02,  1.53000000e+02,\n",
       "         1.67000000e+02,  4.19566100e-02],\n",
       "       [ 1.36000000e+02, -1.60000000e+01,  4.28000000e+02,\n",
       "         5.55000000e+02,  3.98707900e-02],\n",
       "       [ 9.30000000e+02,  9.07000000e+02,  1.02000000e+02,\n",
       "         2.15000000e+02,  3.40381040e-02],\n",
       "       [ 7.18000000e+02,  6.41000000e+02,  3.50000000e+01,\n",
       "         4.00000000e+01,  2.18897390e-02],\n",
       "       [ 3.45000000e+02,  7.16000000e+02,  8.20000000e+01,\n",
       "         1.08000000e+02,  2.05939370e-02]])"
      ]
     },
     "execution_count": 36,
     "metadata": {},
     "output_type": "execute_result"
    }
   ],
   "source": [
    "preds_txt['15--Stock_Market']['15_Stock_Market_Stock_Market_15_483']"
   ]
  },
  {
   "cell_type": "code",
   "execution_count": 46,
   "metadata": {},
   "outputs": [
    {
     "data": {
      "text/plain": [
       "dtype('float64')"
      ]
     },
     "execution_count": 46,
     "metadata": {},
     "output_type": "execute_result"
    }
   ],
   "source": [
    "preds_txt['15--Stock_Market']['15_Stock_Market_Stock_Market_15_483'].dtype"
   ]
  },
  {
   "cell_type": "code",
   "execution_count": 49,
   "metadata": {},
   "outputs": [
    {
     "data": {
      "text/plain": [
       "array([[ 6.14678711e+02,  5.67699707e+02,  2.45845154e+02,\n",
       "         2.69710327e+02,  9.47911382e-01],\n",
       "       [ 4.86948212e+02,  4.76519470e+02,  2.19609161e+02,\n",
       "         3.45916199e+02,  2.32893243e-01],\n",
       "       [ 5.24796448e+02,  4.86052429e+02,  1.34648804e+02,\n",
       "         2.07618896e+02,  1.80130899e-01],\n",
       "       [ 6.23333984e+02,  5.67045715e+02,  3.58484375e+02,\n",
       "         4.54404541e+02,  1.51137963e-01],\n",
       "       [ 5.60474854e+02,  1.50883331e+02,  3.98898132e+02,\n",
       "         5.07254242e+02,  1.19611934e-01],\n",
       "       [ 4.93502930e+02,  3.79408783e+02,  3.95729248e+02,\n",
       "         4.72161957e+02,  1.14329673e-01],\n",
       "       [ 3.66979095e+02,  7.29027161e+02,  5.07568665e+01,\n",
       "         6.62018433e+01,  9.68831554e-02],\n",
       "       [ 4.10173828e+02,  7.80479553e+02,  3.85808838e+02,\n",
       "         5.50782043e+02,  7.98499361e-02],\n",
       "       [ 3.41533875e+02,  3.97497162e+02,  3.12571350e+02,\n",
       "         4.54405426e+02,  7.16069788e-02],\n",
       "       [ 3.92213684e+02,  5.34876465e+02,  4.09073486e+02,\n",
       "         4.50545410e+02,  4.96769473e-02],\n",
       "       [ 6.23786499e+02,  1.26081616e+03,  3.95120728e+02,\n",
       "         4.33597290e+02,  4.94625010e-02],\n",
       "       [ 4.74051483e+02,  8.04485046e+02,  1.53523529e+02,\n",
       "         1.66782593e+02,  4.19566110e-02],\n",
       "       [ 1.36572617e+02, -1.60035839e+01,  4.28088379e+02,\n",
       "         5.55974304e+02,  3.98707911e-02],\n",
       "       [ 9.30779358e+02,  9.07060303e+02,  1.01513123e+02,\n",
       "         2.15215454e+02,  3.40381041e-02],\n",
       "       [ 7.18182922e+02,  6.41341980e+02,  3.53154297e+01,\n",
       "         4.01444092e+01,  2.18897387e-02],\n",
       "       [ 3.45380371e+02,  7.16125000e+02,  8.18585205e+01,\n",
       "         1.07931641e+02,  2.05939375e-02]], dtype=float32)"
      ]
     },
     "execution_count": 49,
     "metadata": {},
     "output_type": "execute_result"
    }
   ],
   "source": [
    "results['15--Stock_Market']['15_Stock_Market_Stock_Market_15_483']"
   ]
  },
  {
   "cell_type": "code",
   "execution_count": 33,
   "metadata": {},
   "outputs": [
    {
     "name": "stdout",
     "output_type": "stream",
     "text": [
      "./widerface_evaluate/widerface_txt//24--Soldier_Firing/24_Soldier_Firing_Soldier_Firing_24_329.txt\r\n"
     ]
    }
   ],
   "source": [
    "!ls ./widerface_evaluate/widerface_txt//24--Soldier_Firing/24_Soldier_Firing_Soldier_Firing_24_329.txt"
   ]
  },
  {
   "cell_type": "code",
   "execution_count": 36,
   "metadata": {},
   "outputs": [
    {
     "data": {
      "text/plain": [
       "['', '24--Soldier_Firing', '24_Soldier_Firing_Soldier_Firing_24_329.jpg']"
      ]
     },
     "execution_count": 36,
     "metadata": {},
     "output_type": "execute_result"
    }
   ],
   "source": [
    "'/24--Soldier_Firing/24_Soldier_Firing_Soldier_Firing_24_329.jpg'.split('/')"
   ]
  },
  {
   "cell_type": "code",
   "execution_count": 37,
   "metadata": {},
   "outputs": [
    {
     "data": {
      "text/plain": [
       "'24_Soldier_Firing_Soldier_Firing_24_329'"
      ]
     },
     "execution_count": 37,
     "metadata": {},
     "output_type": "execute_result"
    }
   ],
   "source": [
    "'/24--Soldier_Firing/24_Soldier_Firing_Soldier_Firing_24_329.jpg'.split('/')[2][:-4]"
   ]
  },
  {
   "cell_type": "code",
   "execution_count": 42,
   "metadata": {},
   "outputs": [
    {
     "data": {
      "text/plain": [
       "defaultdict(dict, {})"
      ]
     },
     "execution_count": 42,
     "metadata": {},
     "output_type": "execute_result"
    }
   ],
   "source": [
    "results = defaultdict(dict)\n",
    "results"
   ]
  },
  {
   "cell_type": "code",
   "execution_count": 43,
   "metadata": {},
   "outputs": [
    {
     "data": {
      "text/plain": [
       "{}"
      ]
     },
     "execution_count": 43,
     "metadata": {},
     "output_type": "execute_result"
    }
   ],
   "source": [
    "results['a']"
   ]
  },
  {
   "cell_type": "code",
   "execution_count": 44,
   "metadata": {},
   "outputs": [
    {
     "ename": "TypeError",
     "evalue": "first argument must be callable or None",
     "output_type": "error",
     "traceback": [
      "\u001b[0;31m---------------------------------------------------------------------------\u001b[0m",
      "\u001b[0;31mTypeError\u001b[0m                                 Traceback (most recent call last)",
      "\u001b[0;32m<ipython-input-44-9bf571322d3d>\u001b[0m in \u001b[0;36m<module>\u001b[0;34m\u001b[0m\n\u001b[1;32m      1\u001b[0m \u001b[0mtmp\u001b[0m \u001b[0;34m=\u001b[0m \u001b[0mdefaultdict\u001b[0m\u001b[0;34m(\u001b[0m\u001b[0mlist\u001b[0m\u001b[0;34m)\u001b[0m\u001b[0;34m\u001b[0m\u001b[0;34m\u001b[0m\u001b[0m\n\u001b[0;32m----> 2\u001b[0;31m \u001b[0mresults\u001b[0m \u001b[0;34m=\u001b[0m \u001b[0mdefaultdict\u001b[0m\u001b[0;34m(\u001b[0m\u001b[0mtmp\u001b[0m\u001b[0;34m)\u001b[0m\u001b[0;34m\u001b[0m\u001b[0;34m\u001b[0m\u001b[0m\n\u001b[0m",
      "\u001b[0;31mTypeError\u001b[0m: first argument must be callable or None"
     ]
    }
   ],
   "source": [
    "tmp = defaultdict(list)\n",
    "results = defaultdict(tmp)"
   ]
  },
  {
   "cell_type": "markdown",
   "metadata": {},
   "source": []
  },
  {
   "cell_type": "code",
   "execution_count": 55,
   "metadata": {},
   "outputs": [],
   "source": [
    "from scipy.io import loadmat"
   ]
  },
  {
   "cell_type": "code",
   "execution_count": 56,
   "metadata": {},
   "outputs": [],
   "source": [
    "gt_mat = loadmat(os.path.join('./widerface_evaluate/ground_truth/', 'wider_face_val.mat'))"
   ]
  },
  {
   "cell_type": "code",
   "execution_count": 59,
   "metadata": {},
   "outputs": [
    {
     "data": {
      "text/plain": [
       "(61, 1)"
      ]
     },
     "execution_count": 59,
     "metadata": {},
     "output_type": "execute_result"
    }
   ],
   "source": [
    "gt_mat['file_list'].shape"
   ]
  },
  {
   "cell_type": "code",
   "execution_count": 65,
   "metadata": {},
   "outputs": [
    {
     "data": {
      "text/plain": [
       "array([[array(['0_Parade_marchingband_1_465'], dtype='<U27')],\n",
       "       [array(['0_Parade_Parade_0_628'], dtype='<U21')],\n",
       "       [array(['0_Parade_marchingband_1_765'], dtype='<U27')],\n",
       "       [array(['0_Parade_Parade_0_194'], dtype='<U21')],\n",
       "       [array(['0_Parade_marchingband_1_379'], dtype='<U27')],\n",
       "       [array(['0_Parade_Parade_0_814'], dtype='<U21')],\n",
       "       [array(['0_Parade_Parade_0_470'], dtype='<U21')],\n",
       "       [array(['0_Parade_marchingband_1_1045'], dtype='<U28')],\n",
       "       [array(['0_Parade_marchingband_1_556'], dtype='<U27')],\n",
       "       [array(['0_Parade_Parade_0_829'], dtype='<U21')],\n",
       "       [array(['0_Parade_marchingband_1_593'], dtype='<U27')],\n",
       "       [array(['0_Parade_Parade_0_29'], dtype='<U20')],\n",
       "       [array(['0_Parade_Parade_0_72'], dtype='<U20')],\n",
       "       [array(['0_Parade_Parade_0_205'], dtype='<U21')],\n",
       "       [array(['0_Parade_marchingband_1_881'], dtype='<U27')],\n",
       "       [array(['0_Parade_marchingband_1_490'], dtype='<U27')],\n",
       "       [array(['0_Parade_Parade_0_125'], dtype='<U21')],\n",
       "       [array(['0_Parade_Parade_0_120'], dtype='<U21')],\n",
       "       [array(['0_Parade_marchingband_1_476'], dtype='<U27')],\n",
       "       [array(['0_Parade_marchingband_1_620'], dtype='<U27')],\n",
       "       [array(['0_Parade_Parade_0_960'], dtype='<U21')],\n",
       "       [array(['0_Parade_marchingband_1_488'], dtype='<U27')],\n",
       "       [array(['0_Parade_Parade_0_901'], dtype='<U21')],\n",
       "       [array(['0_Parade_marchingband_1_822'], dtype='<U27')],\n",
       "       [array(['0_Parade_marchingband_1_353'], dtype='<U27')],\n",
       "       [array(['0_Parade_marchingband_1_74'], dtype='<U26')],\n",
       "       [array(['0_Parade_marchingband_1_234'], dtype='<U27')],\n",
       "       [array(['0_Parade_marchingband_1_359'], dtype='<U27')],\n",
       "       [array(['0_Parade_Parade_0_266'], dtype='<U21')],\n",
       "       [array(['0_Parade_Parade_0_275'], dtype='<U21')],\n",
       "       [array(['0_Parade_Parade_0_478'], dtype='<U21')],\n",
       "       [array(['0_Parade_Parade_0_913'], dtype='<U21')],\n",
       "       [array(['0_Parade_marchingband_1_172'], dtype='<U27')],\n",
       "       [array(['0_Parade_marchingband_1_309'], dtype='<U27')],\n",
       "       [array(['0_Parade_marchingband_1_360'], dtype='<U27')],\n",
       "       [array(['0_Parade_Parade_0_472'], dtype='<U21')],\n",
       "       [array(['0_Parade_marchingband_1_517'], dtype='<U27')],\n",
       "       [array(['0_Parade_marchingband_1_188'], dtype='<U27')],\n",
       "       [array(['0_Parade_Parade_0_917'], dtype='<U21')],\n",
       "       [array(['0_Parade_Parade_0_353'], dtype='<U21')],\n",
       "       [array(['0_Parade_marchingband_1_20'], dtype='<U26')],\n",
       "       [array(['0_Parade_marchingband_1_818'], dtype='<U27')],\n",
       "       [array(['0_Parade_Parade_0_854'], dtype='<U21')],\n",
       "       [array(['0_Parade_marchingband_1_355'], dtype='<U27')],\n",
       "       [array(['0_Parade_marchingband_1_869'], dtype='<U27')],\n",
       "       [array(['0_Parade_Parade_0_611'], dtype='<U21')],\n",
       "       [array(['0_Parade_Parade_0_443'], dtype='<U21')],\n",
       "       [array(['0_Parade_Parade_0_102'], dtype='<U21')],\n",
       "       [array(['0_Parade_Parade_0_218'], dtype='<U21')],\n",
       "       [array(['0_Parade_Parade_0_639'], dtype='<U21')],\n",
       "       [array(['0_Parade_marchingband_1_78'], dtype='<U26')],\n",
       "       [array(['0_Parade_Parade_0_247'], dtype='<U21')],\n",
       "       [array(['0_Parade_marchingband_1_404'], dtype='<U27')],\n",
       "       [array(['0_Parade_marchingband_1_606'], dtype='<U27')],\n",
       "       [array(['0_Parade_Parade_0_664'], dtype='<U21')],\n",
       "       [array(['0_Parade_marchingband_1_382'], dtype='<U27')],\n",
       "       [array(['0_Parade_Parade_0_616'], dtype='<U21')],\n",
       "       [array(['0_Parade_marchingband_1_149'], dtype='<U27')],\n",
       "       [array(['0_Parade_Parade_0_873'], dtype='<U21')],\n",
       "       [array(['0_Parade_marchingband_1_156'], dtype='<U27')],\n",
       "       [array(['0_Parade_Parade_0_545'], dtype='<U21')],\n",
       "       [array(['0_Parade_Parade_0_850'], dtype='<U21')],\n",
       "       [array(['0_Parade_marchingband_1_445'], dtype='<U27')],\n",
       "       [array(['0_Parade_marchingband_1_710'], dtype='<U27')],\n",
       "       [array(['0_Parade_Parade_0_137'], dtype='<U21')],\n",
       "       [array(['0_Parade_marchingband_1_410'], dtype='<U27')],\n",
       "       [array(['0_Parade_Parade_0_906'], dtype='<U21')],\n",
       "       [array(['0_Parade_marchingband_1_1004'], dtype='<U28')],\n",
       "       [array(['0_Parade_Parade_0_377'], dtype='<U21')],\n",
       "       [array(['0_Parade_Parade_0_559'], dtype='<U21')],\n",
       "       [array(['0_Parade_Parade_0_246'], dtype='<U21')],\n",
       "       [array(['0_Parade_marchingband_1_552'], dtype='<U27')],\n",
       "       [array(['0_Parade_Parade_0_12'], dtype='<U20')],\n",
       "       [array(['0_Parade_Parade_0_429'], dtype='<U21')],\n",
       "       [array(['0_Parade_Parade_0_286'], dtype='<U21')],\n",
       "       [array(['0_Parade_Parade_0_317'], dtype='<U21')],\n",
       "       [array(['0_Parade_Parade_0_239'], dtype='<U21')],\n",
       "       [array(['0_Parade_Parade_0_459'], dtype='<U21')],\n",
       "       [array(['0_Parade_Parade_0_376'], dtype='<U21')],\n",
       "       [array(['0_Parade_marchingband_1_695'], dtype='<U27')],\n",
       "       [array(['0_Parade_marchingband_1_910'], dtype='<U27')],\n",
       "       [array(['0_Parade_marchingband_1_356'], dtype='<U27')],\n",
       "       [array(['0_Parade_Parade_0_382'], dtype='<U21')],\n",
       "       [array(['0_Parade_marchingband_1_439'], dtype='<U27')],\n",
       "       [array(['0_Parade_marchingband_1_329'], dtype='<U27')],\n",
       "       [array(['0_Parade_Parade_0_887'], dtype='<U21')],\n",
       "       [array(['0_Parade_Parade_0_468'], dtype='<U21')],\n",
       "       [array(['0_Parade_marchingband_1_139'], dtype='<U27')],\n",
       "       [array(['0_Parade_marchingband_1_746'], dtype='<U27')],\n",
       "       [array(['0_Parade_Parade_0_164'], dtype='<U21')],\n",
       "       [array(['0_Parade_Parade_0_461'], dtype='<U21')],\n",
       "       [array(['0_Parade_Parade_0_757'], dtype='<U21')],\n",
       "       [array(['0_Parade_marchingband_1_759'], dtype='<U27')],\n",
       "       [array(['0_Parade_Parade_0_53'], dtype='<U20')],\n",
       "       [array(['0_Parade_marchingband_1_653'], dtype='<U27')],\n",
       "       [array(['0_Parade_marchingband_1_227'], dtype='<U27')],\n",
       "       [array(['0_Parade_marchingband_1_649'], dtype='<U27')],\n",
       "       [array(['0_Parade_Parade_0_43'], dtype='<U20')],\n",
       "       [array(['0_Parade_marchingband_1_561'], dtype='<U27')],\n",
       "       [array(['0_Parade_Parade_0_490'], dtype='<U21')],\n",
       "       [array(['0_Parade_Parade_0_519'], dtype='<U21')],\n",
       "       [array(['0_Parade_Parade_0_465'], dtype='<U21')],\n",
       "       [array(['0_Parade_marchingband_1_629'], dtype='<U27')],\n",
       "       [array(['0_Parade_marchingband_1_768'], dtype='<U27')],\n",
       "       [array(['0_Parade_Parade_0_688'], dtype='<U21')],\n",
       "       [array(['0_Parade_Parade_0_288'], dtype='<U21')],\n",
       "       [array(['0_Parade_Parade_0_502'], dtype='<U21')],\n",
       "       [array(['0_Parade_Parade_0_364'], dtype='<U21')],\n",
       "       [array(['0_Parade_marchingband_1_267'], dtype='<U27')],\n",
       "       [array(['0_Parade_Parade_0_68'], dtype='<U20')],\n",
       "       [array(['0_Parade_marchingband_1_525'], dtype='<U27')],\n",
       "       [array(['0_Parade_marchingband_1_147'], dtype='<U27')],\n",
       "       [array(['0_Parade_marchingband_1_104'], dtype='<U27')],\n",
       "       [array(['0_Parade_marchingband_1_932'], dtype='<U27')],\n",
       "       [array(['0_Parade_marchingband_1_311'], dtype='<U27')]],\n",
       "      dtype=object)"
      ]
     },
     "execution_count": 65,
     "metadata": {},
     "output_type": "execute_result"
    }
   ],
   "source": [
    "gt_mat['file_list'][0][0]"
   ]
  },
  {
   "cell_type": "code",
   "execution_count": 77,
   "metadata": {},
   "outputs": [],
   "source": [
    "hard_mat = loadmat(os.path.join('./widerface_evaluate/ground_truth/', 'wider_hard_val.mat'))\n",
    "easy_mat = loadmat(os.path.join('./widerface_evaluate/ground_truth/', 'wider_easy_val.mat'))\n",
    "medium_mat = loadmat(os.path.join('./widerface_evaluate/ground_truth/', 'wider_medium_val.mat'))\n"
   ]
  },
  {
   "cell_type": "code",
   "execution_count": 79,
   "metadata": {},
   "outputs": [
    {
     "data": {
      "text/plain": [
       "array([array([[ 1],\n",
       "       [ 2],\n",
       "       [12],\n",
       "       [13],\n",
       "       [14],\n",
       "       [15],\n",
       "       [16],\n",
       "       [17],\n",
       "       [18],\n",
       "       [19],\n",
       "       [20],\n",
       "       [21],\n",
       "       [22],\n",
       "       [23],\n",
       "       [24],\n",
       "       [25]], dtype=uint8)], dtype=object)"
      ]
     },
     "execution_count": 79,
     "metadata": {},
     "output_type": "execute_result"
    }
   ],
   "source": [
    "hard_mat['gt_list'][0][0][1]"
   ]
  },
  {
   "cell_type": "code",
   "execution_count": 80,
   "metadata": {},
   "outputs": [
    {
     "data": {
      "text/plain": [
       "array([array([[13],\n",
       "       [15],\n",
       "       [16]], dtype=uint8)], dtype=object)"
      ]
     },
     "execution_count": 80,
     "metadata": {},
     "output_type": "execute_result"
    }
   ],
   "source": [
    "medium_mat['gt_list'][0][0][1]"
   ]
  },
  {
   "cell_type": "code",
   "execution_count": 81,
   "metadata": {},
   "outputs": [
    {
     "data": {
      "text/plain": [
       "array([array([], shape=(0, 1), dtype=uint8)], dtype=object)"
      ]
     },
     "execution_count": 81,
     "metadata": {},
     "output_type": "execute_result"
    }
   ],
   "source": [
    "easy_mat['gt_list'][0][0][1]"
   ]
  },
  {
   "cell_type": "code",
   "execution_count": 89,
   "metadata": {},
   "outputs": [
    {
     "data": {
      "text/plain": [
       "(115, 1)"
      ]
     },
     "execution_count": 89,
     "metadata": {},
     "output_type": "execute_result"
    }
   ],
   "source": [
    "hard_mat['gt_list'][0][0].shape"
   ]
  },
  {
   "cell_type": "code",
   "execution_count": 92,
   "metadata": {},
   "outputs": [
    {
     "data": {
      "text/plain": [
       "array([array([[ 1],\n",
       "       [ 2],\n",
       "       [ 3],\n",
       "       [ 4],\n",
       "       [ 5],\n",
       "       [ 6],\n",
       "       [ 7],\n",
       "       [ 8],\n",
       "       [ 9],\n",
       "       [10],\n",
       "       [11],\n",
       "       [12],\n",
       "       [13],\n",
       "       [14],\n",
       "       [15],\n",
       "       [16],\n",
       "       [17],\n",
       "       [18],\n",
       "       [19],\n",
       "       [20],\n",
       "       [22],\n",
       "       [23],\n",
       "       [24],\n",
       "       [25],\n",
       "       [26]], dtype=uint8)], dtype=object)"
      ]
     },
     "execution_count": 92,
     "metadata": {},
     "output_type": "execute_result"
    }
   ],
   "source": [
    "hard_mat['gt_list'][0][0][11]"
   ]
  },
  {
   "cell_type": "code",
   "execution_count": 93,
   "metadata": {},
   "outputs": [
    {
     "data": {
      "text/plain": [
       "array([array([[ 1],\n",
       "       [ 2],\n",
       "       [ 4],\n",
       "       [ 8],\n",
       "       [17]], dtype=uint8)], dtype=object)"
      ]
     },
     "execution_count": 93,
     "metadata": {},
     "output_type": "execute_result"
    }
   ],
   "source": [
    "medium_mat['gt_list'][0][0][11]"
   ]
  },
  {
   "cell_type": "code",
   "execution_count": 94,
   "metadata": {},
   "outputs": [
    {
     "data": {
      "text/plain": [
       "array([array([[1],\n",
       "       [2]], dtype=uint8)], dtype=object)"
      ]
     },
     "execution_count": 94,
     "metadata": {},
     "output_type": "execute_result"
    }
   ],
   "source": [
    "easy_mat['gt_list'][0][0][11]"
   ]
  },
  {
   "cell_type": "code",
   "execution_count": 96,
   "metadata": {},
   "outputs": [
    {
     "name": "stdout",
     "output_type": "stream",
     "text": [
      "images\twider_val.txt\r\n"
     ]
    }
   ],
   "source": [
    "!ls data/widerface/val"
   ]
  },
  {
   "cell_type": "code",
   "execution_count": 97,
   "metadata": {},
   "outputs": [
    {
     "name": "stdout",
     "output_type": "stream",
     "text": [
      "/24--Soldier_Firing/24_Soldier_Firing_Soldier_Firing_24_329.jpg\r\n",
      "/24--Soldier_Firing/24_Soldier_Firing_Soldier_Firing_24_10.jpg\r\n",
      "/24--Soldier_Firing/24_Soldier_Firing_Soldier_Firing_24_1037.jpg\r\n",
      "/24--Soldier_Firing/24_Soldier_Firing_Soldier_Firing_24_115.jpg\r\n",
      "/24--Soldier_Firing/24_Soldier_Firing_Soldier_Firing_24_129.jpg\r\n",
      "/24--Soldier_Firing/24_Soldier_Firing_Soldier_Firing_24_133.jpg\r\n",
      "/24--Soldier_Firing/24_Soldier_Firing_Soldier_Firing_24_15.jpg\r\n",
      "/24--Soldier_Firing/24_Soldier_Firing_Soldier_Firing_24_254.jpg\r\n",
      "/24--Soldier_Firing/24_Soldier_Firing_Soldier_Firing_24_264.jpg\r\n",
      "/24--Soldier_Firing/24_Soldier_Firing_Soldier_Firing_24_268.jpg\r\n"
     ]
    }
   ],
   "source": [
    "!head -n 10 data/widerface/val/wider_val.txt"
   ]
  },
  {
   "cell_type": "code",
   "execution_count": 127,
   "metadata": {},
   "outputs": [],
   "source": [
    "with open('data/widerface/val/wider_val.txt', 'r') as f:\n",
    "    val_list = f.read().split()"
   ]
  },
  {
   "cell_type": "code",
   "execution_count": 128,
   "metadata": {},
   "outputs": [
    {
     "data": {
      "text/plain": [
       "3226"
      ]
     },
     "execution_count": 128,
     "metadata": {},
     "output_type": "execute_result"
    }
   ],
   "source": [
    "len(val_list)"
   ]
  },
  {
   "cell_type": "code",
   "execution_count": 129,
   "metadata": {},
   "outputs": [
    {
     "data": {
      "text/plain": [
       "['/24--Soldier_Firing/24_Soldier_Firing_Soldier_Firing_24_329.jpg',\n",
       " '/24--Soldier_Firing/24_Soldier_Firing_Soldier_Firing_24_10.jpg']"
      ]
     },
     "execution_count": 129,
     "metadata": {},
     "output_type": "execute_result"
    }
   ],
   "source": [
    "val_list[:2]"
   ]
  },
  {
   "cell_type": "code",
   "execution_count": 103,
   "metadata": {},
   "outputs": [],
   "source": [
    "from sklearn.utils import shuffle"
   ]
  },
  {
   "cell_type": "code",
   "execution_count": 105,
   "metadata": {},
   "outputs": [],
   "source": [
    "val_list_half = shuffle(val_list)[:1600]"
   ]
  },
  {
   "cell_type": "code",
   "execution_count": 130,
   "metadata": {},
   "outputs": [
    {
     "data": {
      "text/plain": [
       "['/30--Surgeons/30_Surgeons_Surgeons_30_819.jpg\\n',\n",
       " '/61--Street_Battle/61_Street_Battle_streetfight_61_395.jpg\\n',\n",
       " '/56--Voter/56_Voter_peoplevoting_56_122.jpg\\n',\n",
       " '/21--Festival/21_Festival_Festival_21_462.jpg\\n',\n",
       " '/52--Photographers/52_Photographers_photographertakingphoto_52_125.jpg\\n',\n",
       " '/2--Demonstration/2_Demonstration_Political_Rally_2_137.jpg\\n',\n",
       " '/35--Basketball/35_Basketball_basketballgame_ball_35_681.jpg\\n',\n",
       " '/35--Basketball/35_Basketball_basketballgame_ball_35_827.jpg\\n',\n",
       " '/35--Basketball/35_Basketball_playingbasketball_35_251.jpg\\n',\n",
       " '/2--Demonstration/2_Demonstration_Protesters_2_352.jpg\\n']"
      ]
     },
     "execution_count": 130,
     "metadata": {},
     "output_type": "execute_result"
    }
   ],
   "source": [
    "val_list_half[:10]"
   ]
  },
  {
   "cell_type": "code",
   "execution_count": 107,
   "metadata": {},
   "outputs": [],
   "source": [
    "with open('data/widerface/val/wider_val_half.txt', 'w+') as f:\n",
    "    for line in val_list_half:\n",
    "        f.write(line)"
   ]
  },
  {
   "cell_type": "code",
   "execution_count": 131,
   "metadata": {},
   "outputs": [],
   "source": [
    "with open('data/widerface/val/wider_val_half.txt', 'r') as f:\n",
    "    val_list_half = f.read().split()"
   ]
  },
  {
   "cell_type": "code",
   "execution_count": 132,
   "metadata": {},
   "outputs": [
    {
     "data": {
      "text/plain": [
       "['/30--Surgeons/30_Surgeons_Surgeons_30_819.jpg',\n",
       " '/61--Street_Battle/61_Street_Battle_streetfight_61_395.jpg',\n",
       " '/56--Voter/56_Voter_peoplevoting_56_122.jpg',\n",
       " '/21--Festival/21_Festival_Festival_21_462.jpg',\n",
       " '/52--Photographers/52_Photographers_photographertakingphoto_52_125.jpg',\n",
       " '/2--Demonstration/2_Demonstration_Political_Rally_2_137.jpg',\n",
       " '/35--Basketball/35_Basketball_basketballgame_ball_35_681.jpg',\n",
       " '/35--Basketball/35_Basketball_basketballgame_ball_35_827.jpg',\n",
       " '/35--Basketball/35_Basketball_playingbasketball_35_251.jpg',\n",
       " '/2--Demonstration/2_Demonstration_Protesters_2_352.jpg']"
      ]
     },
     "execution_count": 132,
     "metadata": {},
     "output_type": "execute_result"
    }
   ],
   "source": [
    "val_list_half[:10]"
   ]
  },
  {
   "cell_type": "markdown",
   "metadata": {},
   "source": [
    "# multi processing"
   ]
  },
  {
   "cell_type": "code",
   "execution_count": 136,
   "metadata": {},
   "outputs": [],
   "source": [
    "from collections import defaultdict\n",
    "\n",
    "def predict_single(img_file_name):\n",
    "    torch.set_grad_enabled(False)\n",
    "\n",
    "    cfg = None\n",
    "    if args.network == \"mobile0.25\":\n",
    "        cfg = cfg_mnet\n",
    "    elif args.network == \"resnet50\":\n",
    "        cfg = cfg_re50\n",
    "    # net and model\n",
    "    net = RetinaFace(cfg=cfg, phase = 'test')\n",
    "    net = load_model(net, args.trained_model, args.cpu)\n",
    "    net.eval()\n",
    "    print('Finished loading model!')\n",
    "    #print(net)\n",
    "    cudnn.benchmark = True\n",
    "    device = torch.device(\"cpu\" if args.cpu else \"cuda\")\n",
    "    net = net.to(device)\n",
    "\n",
    "    # testing dataset\n",
    "    testset_folder = args.dataset_folder\n",
    "    #testset_list = args.dataset_folder[:-7] + \"wider_val.txt\"\n",
    "    #testset_list = args.dataset_folder[:-7] + \"wider_val_half.txt\"\n",
    "\n",
    "    #with open(testset_list, 'r') as fr:\n",
    "    #    test_dataset = fr.read().split()\n",
    "    num_images = 1 #len(test_dataset)\n",
    "\n",
    "    _t = {'forward_pass': Timer(), 'misc': Timer()}\n",
    "\n",
    "    # testing begin\n",
    "    results = defaultdict(dict)\n",
    "    #for i, img_name in enumerate(test_dataset):\n",
    "    if True:\n",
    "        img_name = img_file_name\n",
    "        image_path = testset_folder + img_name\n",
    "        img_raw = cv2.imread(image_path, cv2.IMREAD_COLOR)\n",
    "        img = np.float32(img_raw)\n",
    "\n",
    "        # testing scale\n",
    "        target_size = 1600\n",
    "        max_size = 2150\n",
    "        im_shape = img.shape\n",
    "        im_size_min = np.min(im_shape[0:2])\n",
    "        im_size_max = np.max(im_shape[0:2])\n",
    "        resize = float(target_size) / float(im_size_min)\n",
    "        # prevent bigger axis from being more than max_size:\n",
    "        if np.round(resize * im_size_max) > max_size:\n",
    "            resize = float(max_size) / float(im_size_max)\n",
    "        if args.origin_size:\n",
    "            resize = 1\n",
    "\n",
    "        if resize != 1:\n",
    "            img = cv2.resize(img, None, None, fx=resize, fy=resize, interpolation=cv2.INTER_LINEAR)\n",
    "        im_height, im_width, _ = img.shape\n",
    "        scale = torch.Tensor([img.shape[1], img.shape[0], img.shape[1], img.shape[0]])\n",
    "        img -= (104, 117, 123)\n",
    "        img = img.transpose(2, 0, 1)\n",
    "        img = torch.from_numpy(img).unsqueeze(0)\n",
    "        img = img.to(device)\n",
    "        scale = scale.to(device)\n",
    "\n",
    "        _t['forward_pass'].tic()\n",
    "        loc, conf, landms = net(img)  # forward pass\n",
    "        _t['forward_pass'].toc()\n",
    "        _t['misc'].tic()\n",
    "        priorbox = PriorBox(cfg, image_size=(im_height, im_width))\n",
    "        priors = priorbox.forward()\n",
    "        priors = priors.to(device)\n",
    "        prior_data = priors.data\n",
    "        boxes = decode(loc.data.squeeze(0), prior_data, cfg['variance'])\n",
    "        boxes = boxes * scale / resize\n",
    "        boxes = boxes.cpu().numpy()\n",
    "        scores = conf.squeeze(0).data.cpu().numpy()[:, 1]\n",
    "        landms = decode_landm(landms.data.squeeze(0), prior_data, cfg['variance'])\n",
    "        scale1 = torch.Tensor([img.shape[3], img.shape[2], img.shape[3], img.shape[2],\n",
    "                               img.shape[3], img.shape[2], img.shape[3], img.shape[2],\n",
    "                               img.shape[3], img.shape[2]])\n",
    "        scale1 = scale1.to(device)\n",
    "        landms = landms * scale1 / resize\n",
    "        landms = landms.cpu().numpy()\n",
    "\n",
    "        # ignore low scores\n",
    "        inds = np.where(scores > args.confidence_threshold)[0]\n",
    "        boxes = boxes[inds]\n",
    "        landms = landms[inds]\n",
    "        scores = scores[inds]\n",
    "\n",
    "        # keep top-K before NMS\n",
    "        order = scores.argsort()[::-1]\n",
    "        # order = scores.argsort()[::-1][:args.top_k]\n",
    "        boxes = boxes[order]\n",
    "        landms = landms[order]\n",
    "        scores = scores[order]\n",
    "\n",
    "        # do NMS\n",
    "        dets = np.hstack((boxes, scores[:, np.newaxis])).astype(np.float32, copy=False)\n",
    "        keep = py_cpu_nms(dets, args.nms_threshold)\n",
    "        # keep = nms(dets, args.nms_threshold,force_cpu=args.cpu)\n",
    "        dets = dets[keep, :]\n",
    "        landms = landms[keep]\n",
    "\n",
    "        # keep top-K faster NMS\n",
    "        # dets = dets[:args.keep_top_k, :]\n",
    "        # landms = landms[:args.keep_top_k, :]\n",
    "\n",
    "        #dets = np.concatenate((dets, landms), axis=1)\n",
    "        _t['misc'].toc()\n",
    "        \n",
    "        event = img_name.split('/')[1]\n",
    "        event_img = img_name.split('/')[2][:-4]\n",
    "\n",
    "        #if event_img not in results[event]:\n",
    "        dets[:, 2] = dets[:, 2] - dets[:, 0]\n",
    "        dets[:, 3] = dets[:, 3] - dets[:, 1]\n",
    "        #results[event][event_img] = dets[:, :5]\n",
    "        #print('results:', results)\n",
    "    return event, event_img, dets\n",
    "            \n",
    "\n",
    "        "
   ]
  },
  {
   "cell_type": "code",
   "execution_count": 137,
   "metadata": {},
   "outputs": [
    {
     "name": "stdout",
     "output_type": "stream",
     "text": [
      "Loading pretrained model from ./weights/mobilenet0.25_Final.pth\n",
      "remove prefix 'module.'\n",
      "Missing keys:0\n",
      "Unused checkpoint keys:0\n",
      "Used keys:300\n",
      "Finished loading model!\n",
      "CPU times: user 4.46 s, sys: 1.33 s, total: 5.79 s\n",
      "Wall time: 315 ms\n"
     ]
    },
    {
     "data": {
      "text/plain": [
       "('30--Surgeons',\n",
       " '30_Surgeons_Surgeons_30_819',\n",
       " array([[3.6067139e+02, 2.5855682e+01, 5.3501404e+01, 7.1234787e+01,\n",
       "         9.9984026e-01],\n",
       "        [4.6462750e+02, 2.2963598e+01, 4.7657654e+01, 6.2339951e+01,\n",
       "         9.9912089e-01],\n",
       "        [5.7824902e+02, 4.2127449e+01, 5.3097534e+01, 6.9189972e+01,\n",
       "         9.9900025e-01],\n",
       "        [8.2206567e+02, 4.2721260e+01, 3.9951782e+01, 4.9774292e+01,\n",
       "         2.1437963e-02]], dtype=float32))"
      ]
     },
     "execution_count": 137,
     "metadata": {},
     "output_type": "execute_result"
    }
   ],
   "source": [
    "%%time\n",
    "\n",
    "predict_single('/30--Surgeons/30_Surgeons_Surgeons_30_819.jpg')"
   ]
  },
  {
   "cell_type": "code",
   "execution_count": 138,
   "metadata": {},
   "outputs": [],
   "source": [
    "from multiprocessing import Pool\n",
    "\n",
    "#def pred_single(fn):\n",
    "#    return ('result', fn.strip())\n",
    "\n",
    "def parallel_pred(fn_list):\n",
    "    pool = Pool(4)\n",
    "    res = pool.map(predict_single, fn_list)\n",
    "    pool.close()\n",
    "    pool.join()\n",
    "    return res"
   ]
  },
  {
   "cell_type": "code",
   "execution_count": 141,
   "metadata": {},
   "outputs": [
    {
     "ename": "RuntimeError",
     "evalue": "context has already been set",
     "output_type": "error",
     "traceback": [
      "\u001b[0;31m---------------------------------------------------------------------------\u001b[0m",
      "\u001b[0;31mRuntimeError\u001b[0m                              Traceback (most recent call last)",
      "\u001b[0;32m<ipython-input-141-38065d025503>\u001b[0m in \u001b[0;36m<module>\u001b[0;34m\u001b[0m\n\u001b[0;32m----> 1\u001b[0;31m \u001b[0mtorch\u001b[0m\u001b[0;34m.\u001b[0m\u001b[0mmultiprocessing\u001b[0m\u001b[0;34m.\u001b[0m\u001b[0mset_start_method\u001b[0m\u001b[0;34m(\u001b[0m\u001b[0;34m'spawn'\u001b[0m\u001b[0;34m)\u001b[0m\u001b[0;34m\u001b[0m\u001b[0;34m\u001b[0m\u001b[0m\n\u001b[0m",
      "\u001b[0;32m~/anaconda3/lib/python3.7/multiprocessing/context.py\u001b[0m in \u001b[0;36mset_start_method\u001b[0;34m(self, method, force)\u001b[0m\n\u001b[1;32m    240\u001b[0m     \u001b[0;32mdef\u001b[0m \u001b[0mset_start_method\u001b[0m\u001b[0;34m(\u001b[0m\u001b[0mself\u001b[0m\u001b[0;34m,\u001b[0m \u001b[0mmethod\u001b[0m\u001b[0;34m,\u001b[0m \u001b[0mforce\u001b[0m\u001b[0;34m=\u001b[0m\u001b[0;32mFalse\u001b[0m\u001b[0;34m)\u001b[0m\u001b[0;34m:\u001b[0m\u001b[0;34m\u001b[0m\u001b[0;34m\u001b[0m\u001b[0m\n\u001b[1;32m    241\u001b[0m         \u001b[0;32mif\u001b[0m \u001b[0mself\u001b[0m\u001b[0;34m.\u001b[0m\u001b[0m_actual_context\u001b[0m \u001b[0;32mis\u001b[0m \u001b[0;32mnot\u001b[0m \u001b[0;32mNone\u001b[0m \u001b[0;32mand\u001b[0m \u001b[0;32mnot\u001b[0m \u001b[0mforce\u001b[0m\u001b[0;34m:\u001b[0m\u001b[0;34m\u001b[0m\u001b[0;34m\u001b[0m\u001b[0m\n\u001b[0;32m--> 242\u001b[0;31m             \u001b[0;32mraise\u001b[0m \u001b[0mRuntimeError\u001b[0m\u001b[0;34m(\u001b[0m\u001b[0;34m'context has already been set'\u001b[0m\u001b[0;34m)\u001b[0m\u001b[0;34m\u001b[0m\u001b[0;34m\u001b[0m\u001b[0m\n\u001b[0m\u001b[1;32m    243\u001b[0m         \u001b[0;32mif\u001b[0m \u001b[0mmethod\u001b[0m \u001b[0;32mis\u001b[0m \u001b[0;32mNone\u001b[0m \u001b[0;32mand\u001b[0m \u001b[0mforce\u001b[0m\u001b[0;34m:\u001b[0m\u001b[0;34m\u001b[0m\u001b[0;34m\u001b[0m\u001b[0m\n\u001b[1;32m    244\u001b[0m             \u001b[0mself\u001b[0m\u001b[0;34m.\u001b[0m\u001b[0m_actual_context\u001b[0m \u001b[0;34m=\u001b[0m \u001b[0;32mNone\u001b[0m\u001b[0;34m\u001b[0m\u001b[0;34m\u001b[0m\u001b[0m\n",
      "\u001b[0;31mRuntimeError\u001b[0m: context has already been set"
     ]
    }
   ],
   "source": [
    "torch.multiprocessing.set_start_method('spawn')"
   ]
  },
  {
   "cell_type": "code",
   "execution_count": 140,
   "metadata": {},
   "outputs": [
    {
     "name": "stdout",
     "output_type": "stream",
     "text": [
      "Loading pretrained model from ./weights/mobilenet0.25_Final.pth\n",
      "Loading pretrained model from ./weights/mobilenet0.25_Final.pth\n",
      "Loading pretrained model from ./weights/mobilenet0.25_Final.pth\n",
      "Loading pretrained model from ./weights/mobilenet0.25_Final.pth\n"
     ]
    },
    {
     "ename": "RuntimeError",
     "evalue": "Cannot re-initialize CUDA in forked subprocess. To use CUDA with multiprocessing, you must use the 'spawn' start method",
     "output_type": "error",
     "traceback": [
      "\u001b[0;31m---------------------------------------------------------------------------\u001b[0m",
      "\u001b[0;31mRemoteTraceback\u001b[0m                           Traceback (most recent call last)",
      "\u001b[0;31mRemoteTraceback\u001b[0m: \n\"\"\"\nTraceback (most recent call last):\n  File \"/home/chec/anaconda3/lib/python3.7/multiprocessing/pool.py\", line 121, in worker\n    result = (True, func(*args, **kwds))\n  File \"/home/chec/anaconda3/lib/python3.7/multiprocessing/pool.py\", line 44, in mapstar\n    return list(map(*args))\n  File \"<ipython-input-136-1d4d44f4d24d>\", line 13, in predict_single\n    net = load_model(net, args.trained_model, args.cpu)\n  File \"<ipython-input-15-8873b252ca81>\", line 72, in load_model\n    device = torch.cuda.current_device()\n  File \"/home/chec/anaconda3/lib/python3.7/site-packages/torch/cuda/__init__.py\", line 330, in current_device\n    _lazy_init()\n  File \"/home/chec/anaconda3/lib/python3.7/site-packages/torch/cuda/__init__.py\", line 148, in _lazy_init\n    \"Cannot re-initialize CUDA in forked subprocess. \" + msg)\nRuntimeError: Cannot re-initialize CUDA in forked subprocess. To use CUDA with multiprocessing, you must use the 'spawn' start method\n\"\"\"",
      "\nThe above exception was the direct cause of the following exception:\n",
      "\u001b[0;31mRuntimeError\u001b[0m                              Traceback (most recent call last)",
      "\u001b[0;32m<timed exec>\u001b[0m in \u001b[0;36m<module>\u001b[0;34m\u001b[0m\n",
      "\u001b[0;32m<ipython-input-138-7f758c38db5f>\u001b[0m in \u001b[0;36mparallel_pred\u001b[0;34m(fn_list)\u001b[0m\n\u001b[1;32m      6\u001b[0m \u001b[0;32mdef\u001b[0m \u001b[0mparallel_pred\u001b[0m\u001b[0;34m(\u001b[0m\u001b[0mfn_list\u001b[0m\u001b[0;34m)\u001b[0m\u001b[0;34m:\u001b[0m\u001b[0;34m\u001b[0m\u001b[0;34m\u001b[0m\u001b[0m\n\u001b[1;32m      7\u001b[0m     \u001b[0mpool\u001b[0m \u001b[0;34m=\u001b[0m \u001b[0mPool\u001b[0m\u001b[0;34m(\u001b[0m\u001b[0;36m4\u001b[0m\u001b[0;34m)\u001b[0m\u001b[0;34m\u001b[0m\u001b[0;34m\u001b[0m\u001b[0m\n\u001b[0;32m----> 8\u001b[0;31m     \u001b[0mres\u001b[0m \u001b[0;34m=\u001b[0m \u001b[0mpool\u001b[0m\u001b[0;34m.\u001b[0m\u001b[0mmap\u001b[0m\u001b[0;34m(\u001b[0m\u001b[0mpredict_single\u001b[0m\u001b[0;34m,\u001b[0m \u001b[0mfn_list\u001b[0m\u001b[0;34m)\u001b[0m\u001b[0;34m\u001b[0m\u001b[0;34m\u001b[0m\u001b[0m\n\u001b[0m\u001b[1;32m      9\u001b[0m     \u001b[0mpool\u001b[0m\u001b[0;34m.\u001b[0m\u001b[0mclose\u001b[0m\u001b[0;34m(\u001b[0m\u001b[0;34m)\u001b[0m\u001b[0;34m\u001b[0m\u001b[0;34m\u001b[0m\u001b[0m\n\u001b[1;32m     10\u001b[0m     \u001b[0mpool\u001b[0m\u001b[0;34m.\u001b[0m\u001b[0mjoin\u001b[0m\u001b[0;34m(\u001b[0m\u001b[0;34m)\u001b[0m\u001b[0;34m\u001b[0m\u001b[0;34m\u001b[0m\u001b[0m\n",
      "\u001b[0;32m~/anaconda3/lib/python3.7/multiprocessing/pool.py\u001b[0m in \u001b[0;36mmap\u001b[0;34m(self, func, iterable, chunksize)\u001b[0m\n\u001b[1;32m    266\u001b[0m         \u001b[0;32min\u001b[0m \u001b[0ma\u001b[0m \u001b[0mlist\u001b[0m \u001b[0mthat\u001b[0m \u001b[0;32mis\u001b[0m \u001b[0mreturned\u001b[0m\u001b[0;34m.\u001b[0m\u001b[0;34m\u001b[0m\u001b[0;34m\u001b[0m\u001b[0m\n\u001b[1;32m    267\u001b[0m         '''\n\u001b[0;32m--> 268\u001b[0;31m         \u001b[0;32mreturn\u001b[0m \u001b[0mself\u001b[0m\u001b[0;34m.\u001b[0m\u001b[0m_map_async\u001b[0m\u001b[0;34m(\u001b[0m\u001b[0mfunc\u001b[0m\u001b[0;34m,\u001b[0m \u001b[0miterable\u001b[0m\u001b[0;34m,\u001b[0m \u001b[0mmapstar\u001b[0m\u001b[0;34m,\u001b[0m \u001b[0mchunksize\u001b[0m\u001b[0;34m)\u001b[0m\u001b[0;34m.\u001b[0m\u001b[0mget\u001b[0m\u001b[0;34m(\u001b[0m\u001b[0;34m)\u001b[0m\u001b[0;34m\u001b[0m\u001b[0;34m\u001b[0m\u001b[0m\n\u001b[0m\u001b[1;32m    269\u001b[0m \u001b[0;34m\u001b[0m\u001b[0m\n\u001b[1;32m    270\u001b[0m     \u001b[0;32mdef\u001b[0m \u001b[0mstarmap\u001b[0m\u001b[0;34m(\u001b[0m\u001b[0mself\u001b[0m\u001b[0;34m,\u001b[0m \u001b[0mfunc\u001b[0m\u001b[0;34m,\u001b[0m \u001b[0miterable\u001b[0m\u001b[0;34m,\u001b[0m \u001b[0mchunksize\u001b[0m\u001b[0;34m=\u001b[0m\u001b[0;32mNone\u001b[0m\u001b[0;34m)\u001b[0m\u001b[0;34m:\u001b[0m\u001b[0;34m\u001b[0m\u001b[0;34m\u001b[0m\u001b[0m\n",
      "\u001b[0;32m~/anaconda3/lib/python3.7/multiprocessing/pool.py\u001b[0m in \u001b[0;36mget\u001b[0;34m(self, timeout)\u001b[0m\n\u001b[1;32m    655\u001b[0m             \u001b[0;32mreturn\u001b[0m \u001b[0mself\u001b[0m\u001b[0;34m.\u001b[0m\u001b[0m_value\u001b[0m\u001b[0;34m\u001b[0m\u001b[0;34m\u001b[0m\u001b[0m\n\u001b[1;32m    656\u001b[0m         \u001b[0;32melse\u001b[0m\u001b[0;34m:\u001b[0m\u001b[0;34m\u001b[0m\u001b[0;34m\u001b[0m\u001b[0m\n\u001b[0;32m--> 657\u001b[0;31m             \u001b[0;32mraise\u001b[0m \u001b[0mself\u001b[0m\u001b[0;34m.\u001b[0m\u001b[0m_value\u001b[0m\u001b[0;34m\u001b[0m\u001b[0;34m\u001b[0m\u001b[0m\n\u001b[0m\u001b[1;32m    658\u001b[0m \u001b[0;34m\u001b[0m\u001b[0m\n\u001b[1;32m    659\u001b[0m     \u001b[0;32mdef\u001b[0m \u001b[0m_set\u001b[0m\u001b[0;34m(\u001b[0m\u001b[0mself\u001b[0m\u001b[0;34m,\u001b[0m \u001b[0mi\u001b[0m\u001b[0;34m,\u001b[0m \u001b[0mobj\u001b[0m\u001b[0;34m)\u001b[0m\u001b[0;34m:\u001b[0m\u001b[0;34m\u001b[0m\u001b[0;34m\u001b[0m\u001b[0m\n",
      "\u001b[0;31mRuntimeError\u001b[0m: Cannot re-initialize CUDA in forked subprocess. To use CUDA with multiprocessing, you must use the 'spawn' start method"
     ]
    }
   ],
   "source": [
    "%%time \n",
    "\n",
    "tmp = parallel_pred(val_list_half[:4])"
   ]
  },
  {
   "cell_type": "code",
   "execution_count": 123,
   "metadata": {},
   "outputs": [
    {
     "data": {
      "text/plain": [
       "[('result', '/30--Surgeons/30_Surgeons_Surgeons_30_819.jpg'),\n",
       " ('result', '/61--Street_Battle/61_Street_Battle_streetfight_61_395.jpg'),\n",
       " ('result', '/56--Voter/56_Voter_peoplevoting_56_122.jpg'),\n",
       " ('result', '/21--Festival/21_Festival_Festival_21_462.jpg'),\n",
       " ('result',\n",
       "  '/52--Photographers/52_Photographers_photographertakingphoto_52_125.jpg'),\n",
       " ('result', '/2--Demonstration/2_Demonstration_Political_Rally_2_137.jpg'),\n",
       " ('result', '/35--Basketball/35_Basketball_basketballgame_ball_35_681.jpg'),\n",
       " ('result', '/35--Basketball/35_Basketball_basketballgame_ball_35_827.jpg'),\n",
       " ('result', '/35--Basketball/35_Basketball_playingbasketball_35_251.jpg'),\n",
       " ('result', '/2--Demonstration/2_Demonstration_Protesters_2_352.jpg'),\n",
       " ('result',\n",
       "  '/2--Demonstration/2_Demonstration_Demonstration_Or_Protest_2_117.jpg'),\n",
       " ('result', '/30--Surgeons/30_Surgeons_Surgeons_30_77.jpg')]"
      ]
     },
     "execution_count": 123,
     "metadata": {},
     "output_type": "execute_result"
    }
   ],
   "source": [
    "tmp"
   ]
  },
  {
   "cell_type": "code",
   "execution_count": null,
   "metadata": {},
   "outputs": [],
   "source": []
  }
 ],
 "metadata": {
  "kernelspec": {
   "display_name": "Python 3",
   "language": "python",
   "name": "python3"
  },
  "language_info": {
   "codemirror_mode": {
    "name": "ipython",
    "version": 3
   },
   "file_extension": ".py",
   "mimetype": "text/x-python",
   "name": "python",
   "nbconvert_exporter": "python",
   "pygments_lexer": "ipython3",
   "version": "3.7.6"
  }
 },
 "nbformat": 4,
 "nbformat_minor": 4
}
